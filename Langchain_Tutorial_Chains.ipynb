{
  "nbformat": 4,
  "nbformat_minor": 0,
  "metadata": {
    "colab": {
      "provenance": []
    },
    "kernelspec": {
      "name": "python3",
      "display_name": "Python 3"
    },
    "language_info": {
      "name": "python"
    }
  },
  "cells": [
    {
      "cell_type": "markdown",
      "source": [
        "## Overview\n",
        "\n",
        "This colab explores chains available in Langchain through practical examples.\n",
        "\n",
        "We build a basic use case of generating the product name and tagline given a description of the product.\n",
        "\n",
        "This is followed by a more complex case where the tagline is decided based on the target age group of the product.\n",
        "\n",
        "Design of the flow is provided in the deck available on the [Github repo](https://github.com/InFoCusp/langchain_tutorial/tree/main)"
      ],
      "metadata": {
        "id": "SYV7wsaEC77C"
      }
    },
    {
      "cell_type": "markdown",
      "source": [
        "# Installs"
      ],
      "metadata": {
        "id": "xyLTOnKtmBne"
      }
    },
    {
      "cell_type": "code",
      "source": [
        "! pip install langchain\n",
        "\n",
        "# For Google PALM access\n",
        "! pip install google-generativeai\n",
        "\n",
        "# For Serp API\n",
        "! pip install google-search-results"
      ],
      "metadata": {
        "id": "a7udBETamCRT"
      },
      "execution_count": null,
      "outputs": []
    },
    {
      "cell_type": "markdown",
      "source": [
        "# Imports and General setup"
      ],
      "metadata": {
        "id": "hyxkkC5gmgbY"
      }
    },
    {
      "cell_type": "code",
      "source": [
        "import os\n",
        "import json\n",
        "import time\n",
        "from pprint import pprint\n",
        "from typing import Dict, Tuple, List, Union, Optional, Callable, Any"
      ],
      "metadata": {
        "id": "y5kUJfL4mswz"
      },
      "execution_count": null,
      "outputs": []
    },
    {
      "cell_type": "code",
      "source": [
        "# Connect to drive.\n",
        "from google.colab import drive\n",
        "drive.mount('/content/drive')"
      ],
      "metadata": {
        "colab": {
          "base_uri": "https://localhost:8080/"
        },
        "id": "DMr3PPoQmoVW",
        "outputId": "632d08fc-3b89-4058-a72e-835fada3e587"
      },
      "execution_count": null,
      "outputs": [
        {
          "output_type": "stream",
          "name": "stdout",
          "text": [
            "Mounted at /content/drive\n"
          ]
        }
      ]
    },
    {
      "cell_type": "markdown",
      "source": [
        "# PALM Setup"
      ],
      "metadata": {
        "id": "vH7kHiNDl9nE"
      }
    },
    {
      "cell_type": "code",
      "source": [
        "# Generate yours @ https://developers.generativeai.google/products/palm\n",
        "with open('/content/drive/My Drive/LangChain course/google_palm_key.txt', 'r') as f:\n",
        "  palm_api_key = f.readlines()[0].strip('\\n')\n",
        "\n",
        "os.environ[\"GOOGLE_API_KEY\"] = palm_api_key"
      ],
      "metadata": {
        "id": "kOX8_A-3tKrV"
      },
      "execution_count": null,
      "outputs": []
    },
    {
      "cell_type": "code",
      "execution_count": null,
      "metadata": {
        "colab": {
          "base_uri": "https://localhost:8080/"
        },
        "id": "XBTtTj8Kix50",
        "outputId": "035a7df6-3dee-4f6b-edff-1e6dfce960b2"
      },
      "outputs": [
        {
          "output_type": "execute_result",
          "data": {
            "text/plain": [
              "GooglePalm(cache=None, verbose=False, callbacks=None, callback_manager=None, tags=None, metadata=None, client=<module 'google.generativeai' from '/usr/local/lib/python3.10/dist-packages/google/generativeai/__init__.py'>, google_api_key=None, model_name='models/text-bison-001', temperature=0.0, top_p=None, top_k=None, max_output_tokens=256, n=1)"
            ]
          },
          "metadata": {},
          "execution_count": 179
        }
      ],
      "source": [
        "import langchain\n",
        "from langchain.prompts import PromptTemplate\n",
        "from langchain.llms.google_palm import GooglePalm\n",
        "\n",
        "llm = GooglePalm(temperature=0.0, max_output_tokens=256)\n",
        "llm"
      ]
    },
    {
      "cell_type": "markdown",
      "source": [
        "# Chains"
      ],
      "metadata": {
        "id": "xoIFyCXPl7pr"
      }
    },
    {
      "cell_type": "markdown",
      "source": [
        "## LLMChain"
      ],
      "metadata": {
        "id": "pWBq8PItpxvL"
      }
    },
    {
      "cell_type": "code",
      "source": [
        "from langchain.chains import LLMChain"
      ],
      "metadata": {
        "id": "Yl07S9_9p2l9"
      },
      "execution_count": null,
      "outputs": []
    },
    {
      "cell_type": "code",
      "source": [
        "company = \"Audio Mechanics\"\n",
        "\n",
        "product_description = \"\"\"The perfect headphones for young music lovers.\n",
        "With their sleek design and powerful sound, these headphones are sure to turn heads wherever you go. The over-ear design provides\n",
        "superior comfort, even during extended listening sessions, while the noise-canceling technology blocks out distractions so you\n",
        "can focus on your music.\"\"\""
      ],
      "metadata": {
        "id": "fXZKBYnhOYq1"
      },
      "execution_count": null,
      "outputs": []
    },
    {
      "cell_type": "markdown",
      "source": [
        "### Name generator chain"
      ],
      "metadata": {
        "id": "HYuyNE-PMfkZ"
      }
    },
    {
      "cell_type": "code",
      "source": [
        "prompt = PromptTemplate(\n",
        "    input_variables=[\"company\", \"product_description\"],\n",
        "    template=\"\"\"What is a good product name for a product with the description `{product_description}` and made by the company {company}?\"\"\",\n",
        ")\n",
        "\n",
        "name_generator_chain = LLMChain(llm=llm, prompt=prompt,\n",
        "                                output_key='product_name')\n",
        "\n",
        "print(\n",
        "    name_generator_chain.run({\n",
        "        'company': company,\n",
        "        'product_description': product_description,\n",
        "    })\n",
        ")"
      ],
      "metadata": {
        "colab": {
          "base_uri": "https://localhost:8080/"
        },
        "id": "bQEE9LGJl5-q",
        "outputId": "e356fec8-0026-46b6-dc7e-20dcc86c8fe2"
      },
      "execution_count": null,
      "outputs": [
        {
          "output_type": "stream",
          "name": "stdout",
          "text": [
            "Audio Mechanics M1000 Over-Ear Headphones\n"
          ]
        }
      ]
    },
    {
      "cell_type": "markdown",
      "source": [
        "### Tag-line generator chain"
      ],
      "metadata": {
        "id": "zojHtRBtMkGT"
      }
    },
    {
      "cell_type": "code",
      "source": [
        "prompt = PromptTemplate(\n",
        "    input_variables=[\"company\", \"product_description\", \"product_name\"],\n",
        "    template=\"\"\"You are a copywriter that writes tag lines. What is a good tag line for\n",
        "a product called {product_name} with the description `{product_description}` and made by the company {company}?\"\"\",\n",
        ")\n",
        "\n",
        "tagline_generator_chain = LLMChain(llm=llm, prompt=prompt,\n",
        "                                   output_key=\"tag-line\")\n",
        "\n",
        "print(tagline_generator_chain.run({\n",
        "    'company': company,\n",
        "    'product_description': product_description,\n",
        "    'product_name': 'Audio Mechanics M1000 Over-Ear Headphones'\n",
        "}))"
      ],
      "metadata": {
        "colab": {
          "base_uri": "https://localhost:8080/"
        },
        "id": "WcvJRGafxdU2",
        "outputId": "d95de3af-afee-4212-cdf8-25bcada079ec"
      },
      "execution_count": null,
      "outputs": [
        {
          "output_type": "stream",
          "name": "stdout",
          "text": [
            "**Audio Mechanics M1000 Over-Ear Headphones: Sleek design, powerful sound, and superior comfort.**\n"
          ]
        }
      ]
    },
    {
      "cell_type": "markdown",
      "source": [
        "## Sequential Chain"
      ],
      "metadata": {
        "id": "soJB0JJXxGKa"
      }
    },
    {
      "cell_type": "code",
      "source": [
        "from langchain.chains import SequentialChain\n",
        "\n",
        "full_chain = SequentialChain(\n",
        "    chains=[name_generator_chain, tagline_generator_chain],\n",
        "    input_variables=[\"company\", \"product_description\"],\n",
        "    output_variables=[\"product_name\", \"tag-line\"],\n",
        ")\n",
        "\n",
        "pprint(\n",
        "    full_chain(\n",
        "        {\n",
        "            'company': company,\n",
        "            'product_description': product_description\n",
        "        },\n",
        "        return_only_outputs=True\n",
        "    )\n",
        ")"
      ],
      "metadata": {
        "colab": {
          "base_uri": "https://localhost:8080/"
        },
        "id": "vAvjw0nMyJlC",
        "outputId": "685d83a9-4651-4a46-8687-25d513d48a5b"
      },
      "execution_count": null,
      "outputs": [
        {
          "output_type": "stream",
          "name": "stdout",
          "text": [
            "{'product_name': 'Audio Mechanics M1000 Over-Ear Headphones',\n",
            " 'tag-line': '**Audio Mechanics M1000 Over-Ear Headphones: Sleek design, '\n",
            "             'powerful sound, and superior comfort.**'}\n"
          ]
        }
      ]
    },
    {
      "cell_type": "markdown",
      "source": [
        "## Multi-prompt and Router Chain"
      ],
      "metadata": {
        "id": "GhcyETLuzZNx"
      }
    },
    {
      "cell_type": "markdown",
      "source": [
        "### Create default chain"
      ],
      "metadata": {
        "id": "QFfg_1atLdUE"
      }
    },
    {
      "cell_type": "code",
      "source": [
        "default_template =  \"\"\"You are a copywriter that writes tag lines. What is a good tag line\n",
        "given the following info:\n",
        "{input}\"\"\"\n",
        "\n",
        "prompt = PromptTemplate(template=default_template, input_variables=[\"input\"])\n",
        "default_chain = LLMChain(llm=llm, prompt=prompt)"
      ],
      "metadata": {
        "id": "vMh8Ut_azmvb"
      },
      "execution_count": null,
      "outputs": []
    },
    {
      "cell_type": "markdown",
      "source": [
        "### Create audience based tag-line generator chains"
      ],
      "metadata": {
        "id": "5r7E7kVwLhUb"
      }
    },
    {
      "cell_type": "code",
      "source": [
        "teens_template = \"\"\"You are a copywriter that writes tag lines for customers in their teens. What is a good tag line\n",
        "given the following info:\n",
        "{input}\"\"\"\n",
        "\n",
        "middle_aged_template = \"\"\"You are a copywriter that writes tag line for customers in their late 30s. What is a good tag line\n",
        "given the following info:\n",
        "{input}\"\"\"\n",
        "\n",
        "prompt_infos = [\n",
        "    {\n",
        "        \"name\": \"teens\",\n",
        "        \"description\": \"Good for customers in their teens.\",\n",
        "        \"prompt_template\": teens_template,\n",
        "    },\n",
        "    {\n",
        "        \"name\": \"middle-aged\",\n",
        "        \"description\": \"Good for middle aged customers.\",\n",
        "        \"prompt_template\": middle_aged_template,\n",
        "    },\n",
        "]\n",
        "\n",
        "destination_chains = {}\n",
        "for p_info in prompt_infos:\n",
        "\n",
        "    name = p_info[\"name\"]\n",
        "    prompt_template = p_info[\"prompt_template\"]\n",
        "\n",
        "    prompt = PromptTemplate(template=prompt_template, input_variables=[\"input\"])\n",
        "    chain = LLMChain(llm=llm, prompt=prompt)\n",
        "\n",
        "    destination_chains[name] = chain"
      ],
      "metadata": {
        "id": "T3nV0k7k1YCu"
      },
      "execution_count": null,
      "outputs": []
    },
    {
      "cell_type": "markdown",
      "source": [
        "### Create router chain"
      ],
      "metadata": {
        "id": "IL01H1uhLprp"
      }
    },
    {
      "cell_type": "code",
      "source": [
        "from langchain.chains.router.llm_router import LLMRouterChain, RouterOutputParser\n",
        "\n",
        "destinations = [f\"{p['name']}: {p['description']}\" for p in prompt_infos]\n",
        "\n",
        "destinations_str = \"\\n\".join(destinations)\n",
        "\n",
        "router_template = f\"\"\"Given a raw text input to a language model select the model prompt best suited for the input. You will be given the names of the available prompts and a description of what the prompt is best suited for. You may also revise the original input if you think that revising it will ultimately lead to a better response from the language model.\n",
        "\n",
        "<< FORMATTING >>\n",
        "Return a markdown code snippet with a JSON object formatted to look like:\n",
        "```json\n",
        "{{{{\n",
        "    \"destination\": string \\ name of the prompt to use or \"DEFAULT\"\n",
        "    \"next_inputs\": {{{{\n",
        "        \"company\": string \\ name of the company from original input\n",
        "        \"product_name\": string \\ name of the product from original input\n",
        "        \"product_description\": string \\ description of the product from original input\n",
        "    }}}}\n",
        "}}}}\n",
        "```\n",
        "\n",
        "REMEMBER: \"destination\" MUST be one of the candidate prompt names specified below OR it can be \"DEFAULT\" if the input is not well suited for any of the candidate prompts.\n",
        "REMEMBER: \"next_inputs\" can just be the original input if you don't think any modifications are needed.\n",
        "\n",
        "<< CANDIDATE PROMPTS >>\n",
        "{destinations_str}\n",
        "\n",
        "<< INPUT >>\n",
        "company: {{company}}\n",
        "product_name: {{product_name}}\n",
        "product_description : {{product_description}}\n",
        "\n",
        "<< OUTPUT >>\"\"\"\n",
        "\n",
        "router_prompt = PromptTemplate(\n",
        "    template=router_template,\n",
        "    input_variables=[\"company\", \"product_description\", \"product_name\"],\n",
        "    output_parser=RouterOutputParser(next_inputs_type=dict),\n",
        ")\n",
        "\n",
        "router_chain = LLMRouterChain.from_llm(llm, router_prompt)"
      ],
      "metadata": {
        "id": "Ff-cauqG0H0m"
      },
      "execution_count": null,
      "outputs": []
    },
    {
      "cell_type": "markdown",
      "source": [
        "### Create multi-prompt chain"
      ],
      "metadata": {
        "id": "9YtTTmRuLyBE"
      }
    },
    {
      "cell_type": "code",
      "source": [
        "from langchain.chains.router import MultiPromptChain\n",
        "\n",
        "multi_prompt_chain = MultiPromptChain(\n",
        "    router_chain=router_chain,\n",
        "    destination_chains=destination_chains,\n",
        "    default_chain=default_chain,\n",
        ")"
      ],
      "metadata": {
        "id": "UNvX46qR0vqw"
      },
      "execution_count": null,
      "outputs": []
    },
    {
      "cell_type": "code",
      "source": [
        "print(\n",
        "    multi_prompt_chain.run({\n",
        "        'company': company,\n",
        "        'product_description': product_description,\n",
        "        'product_name': \"Audio Mechanics M1000 Over-Ear Headphones\"\n",
        "    })\n",
        ")"
      ],
      "metadata": {
        "colab": {
          "base_uri": "https://localhost:8080/"
        },
        "id": "6PDAi8SXSPfK",
        "outputId": "9be6e17b-d55e-4105-9294-5f702798bcbc"
      },
      "execution_count": null,
      "outputs": [
        {
          "output_type": "stream",
          "name": "stderr",
          "text": [
            "/usr/local/lib/python3.10/dist-packages/langchain/chains/llm.py:275: UserWarning: The predict_and_parse method is deprecated, instead pass an output parser directly to LLMChain.\n",
            "  warnings.warn(\n"
          ]
        },
        {
          "output_type": "stream",
          "name": "stdout",
          "text": [
            "**Audio Mechanics M1000 Over-Ear Headphones: Turn your world up to 11.**\n"
          ]
        }
      ]
    },
    {
      "cell_type": "markdown",
      "source": [
        "### Combine name generator and the multi-prompt tag-line generator"
      ],
      "metadata": {
        "id": "zCWqeeEnL13j"
      }
    },
    {
      "cell_type": "code",
      "source": [
        "from langchain.chains import SequentialChain\n",
        "\n",
        "full_chain = SequentialChain(\n",
        "    chains=[name_generator_chain, multi_prompt_chain],\n",
        "    input_variables=[\"company\", \"product_description\"],\n",
        ")"
      ],
      "metadata": {
        "id": "rCJTFiTh0VMz"
      },
      "execution_count": null,
      "outputs": []
    },
    {
      "cell_type": "markdown",
      "source": [
        "### Run"
      ],
      "metadata": {
        "id": "AHODwk6iMAkZ"
      }
    },
    {
      "cell_type": "code",
      "source": [
        "# Teens example.\n",
        "print(full_chain.run({\n",
        "    'company': company,\n",
        "    'product_description': product_description\n",
        "}))"
      ],
      "metadata": {
        "id": "BvM7_xaZMAAE"
      },
      "execution_count": null,
      "outputs": []
    },
    {
      "cell_type": "code",
      "source": [
        "# Teens example.\n",
        "langchain.debug=True\n",
        "print(full_chain.run({\n",
        "    'company': company,\n",
        "    'product_description': product_description\n",
        "}))\n",
        "langchain.debug=False"
      ],
      "metadata": {
        "colab": {
          "base_uri": "https://localhost:8080/"
        },
        "id": "o0NrU1lzKO-r",
        "outputId": "99307608-cad0-4939-b87d-40bdcbc64075"
      },
      "execution_count": null,
      "outputs": [
        {
          "output_type": "stream",
          "name": "stdout",
          "text": [
            "\u001b[32;1m\u001b[1;3m[chain/start]\u001b[0m \u001b[1m[1:chain:SequentialChain] Entering Chain run with input:\n",
            "\u001b[0m{\n",
            "  \"company\": \"Audio Mechanics\",\n",
            "  \"product_description\": \"The perfect headphones for young music lovers. \\nWith their sleek design and powerful sound, these headphones are sure to turn heads wherever you go. The over-ear design provides\\nsuperior comfort, even during extended listening sessions, while the noise-canceling technology blocks out distractions so you \\ncan focus on your music.\"\n",
            "}\n",
            "\u001b[32;1m\u001b[1;3m[chain/start]\u001b[0m \u001b[1m[1:chain:SequentialChain > 2:chain:LLMChain] Entering Chain run with input:\n",
            "\u001b[0m{\n",
            "  \"company\": \"Audio Mechanics\",\n",
            "  \"product_description\": \"The perfect headphones for young music lovers. \\nWith their sleek design and powerful sound, these headphones are sure to turn heads wherever you go. The over-ear design provides\\nsuperior comfort, even during extended listening sessions, while the noise-canceling technology blocks out distractions so you \\ncan focus on your music.\"\n",
            "}\n",
            "\u001b[32;1m\u001b[1;3m[llm/start]\u001b[0m \u001b[1m[1:chain:SequentialChain > 2:chain:LLMChain > 3:llm:GooglePalm] Entering LLM run with input:\n",
            "\u001b[0m{\n",
            "  \"prompts\": [\n",
            "    \"What is a good product name for a product with the description `The perfect headphones for young music lovers. \\nWith their sleek design and powerful sound, these headphones are sure to turn heads wherever you go. The over-ear design provides\\nsuperior comfort, even during extended listening sessions, while the noise-canceling technology blocks out distractions so you \\ncan focus on your music.` and made by the company Audio Mechanics?\"\n",
            "  ]\n",
            "}\n",
            "\u001b[36;1m\u001b[1;3m[llm/end]\u001b[0m \u001b[1m[1:chain:SequentialChain > 2:chain:LLMChain > 3:llm:GooglePalm] [301.197ms] Exiting LLM run with output:\n",
            "\u001b[0m{\n",
            "  \"generations\": [\n",
            "    [\n",
            "      {\n",
            "        \"text\": \"Audio Mechanics M1000 Over-Ear Headphones\",\n",
            "        \"generation_info\": null\n",
            "      }\n",
            "    ]\n",
            "  ],\n",
            "  \"llm_output\": null,\n",
            "  \"run\": null\n",
            "}\n",
            "\u001b[36;1m\u001b[1;3m[chain/end]\u001b[0m \u001b[1m[1:chain:SequentialChain > 2:chain:LLMChain] [303.56600000000003ms] Exiting Chain run with output:\n",
            "\u001b[0m{\n",
            "  \"product_name\": \"Audio Mechanics M1000 Over-Ear Headphones\"\n",
            "}\n",
            "\u001b[32;1m\u001b[1;3m[chain/start]\u001b[0m \u001b[1m[1:chain:SequentialChain > 4:chain:MultiPromptChain] Entering Chain run with input:\n",
            "\u001b[0m{\n",
            "  \"company\": \"Audio Mechanics\",\n",
            "  \"product_description\": \"The perfect headphones for young music lovers. \\nWith their sleek design and powerful sound, these headphones are sure to turn heads wherever you go. The over-ear design provides\\nsuperior comfort, even during extended listening sessions, while the noise-canceling technology blocks out distractions so you \\ncan focus on your music.\",\n",
            "  \"product_name\": \"Audio Mechanics M1000 Over-Ear Headphones\"\n",
            "}\n",
            "\u001b[32;1m\u001b[1;3m[chain/start]\u001b[0m \u001b[1m[1:chain:SequentialChain > 4:chain:MultiPromptChain > 5:chain:LLMRouterChain] Entering Chain run with input:\n",
            "\u001b[0m{\n",
            "  \"company\": \"Audio Mechanics\",\n",
            "  \"product_description\": \"The perfect headphones for young music lovers. \\nWith their sleek design and powerful sound, these headphones are sure to turn heads wherever you go. The over-ear design provides\\nsuperior comfort, even during extended listening sessions, while the noise-canceling technology blocks out distractions so you \\ncan focus on your music.\",\n",
            "  \"product_name\": \"Audio Mechanics M1000 Over-Ear Headphones\"\n",
            "}\n",
            "\u001b[32;1m\u001b[1;3m[chain/start]\u001b[0m \u001b[1m[1:chain:SequentialChain > 4:chain:MultiPromptChain > 5:chain:LLMRouterChain > 6:chain:LLMChain] Entering Chain run with input:\n",
            "\u001b[0m{\n",
            "  \"company\": \"Audio Mechanics\",\n",
            "  \"product_description\": \"The perfect headphones for young music lovers. \\nWith their sleek design and powerful sound, these headphones are sure to turn heads wherever you go. The over-ear design provides\\nsuperior comfort, even during extended listening sessions, while the noise-canceling technology blocks out distractions so you \\ncan focus on your music.\",\n",
            "  \"product_name\": \"Audio Mechanics M1000 Over-Ear Headphones\"\n",
            "}\n",
            "\u001b[32;1m\u001b[1;3m[llm/start]\u001b[0m \u001b[1m[1:chain:SequentialChain > 4:chain:MultiPromptChain > 5:chain:LLMRouterChain > 6:chain:LLMChain > 7:llm:GooglePalm] Entering LLM run with input:\n",
            "\u001b[0m{\n",
            "  \"prompts\": [\n",
            "    \"Given a raw text input to a language model select the model prompt best suited for the input. You will be given the names of the available prompts and a description of what the prompt is best suited for. You may also revise the original input if you think that revising it will ultimately lead to a better response from the language model.\\n\\n<< FORMATTING >>\\nReturn a markdown code snippet with a JSON object formatted to look like:\\n```json\\n{\\n    \\\"destination\\\": string \\\\ name of the prompt to use or \\\"DEFAULT\\\"\\n    \\\"next_inputs\\\": {\\n        \\\"company\\\": string \\\\ name of the company from original input\\n        \\\"product_name\\\": string \\\\ name of the product from original input\\n        \\\"product_description\\\": string \\\\ description of the product from original input\\n    }\\n}\\n```\\n\\nREMEMBER: \\\"destination\\\" MUST be one of the candidate prompt names specified below OR it can be \\\"DEFAULT\\\" if the input is not well suited for any of the candidate prompts.\\nREMEMBER: \\\"next_inputs\\\" can just be the original input if you don't think any modifications are needed.\\n\\n<< CANDIDATE PROMPTS >>\\nteens: Good for customers in their teens.\\nmiddle-aged: Good for middle aged customers.\\n\\n<< INPUT >>\\ncompany: Audio Mechanics\\nproduct_name: Audio Mechanics M1000 Over-Ear Headphones \\nproduct_description : The perfect headphones for young music lovers. \\nWith their sleek design and powerful sound, these headphones are sure to turn heads wherever you go. The over-ear design provides\\nsuperior comfort, even during extended listening sessions, while the noise-canceling technology blocks out distractions so you \\ncan focus on your music.\\n\\n<< OUTPUT >>\"\n",
            "  ]\n",
            "}\n",
            "\u001b[36;1m\u001b[1;3m[llm/end]\u001b[0m \u001b[1m[1:chain:SequentialChain > 4:chain:MultiPromptChain > 5:chain:LLMRouterChain > 6:chain:LLMChain > 7:llm:GooglePalm] [1.57s] Exiting LLM run with output:\n",
            "\u001b[0m{\n",
            "  \"generations\": [\n",
            "    [\n",
            "      {\n",
            "        \"text\": \"{\\n    \\\"destination\\\": \\\"teens\\\",\\n    \\\"next_inputs\\\": {\\n        \\\"company\\\": \\\"Audio Mechanics\\\",\\n        \\\"product_name\\\": \\\"Audio Mechanics M1000 Over-Ear Headphones\\\",\\n        \\\"product_description\\\": \\\"The perfect headphones for young music lovers. With their sleek design and powerful sound, these headphones are sure to turn heads wherever you go. The over-ear design provides superior comfort, even during extended listening sessions, while the noise-canceling technology blocks out distractions so you can focus on your music.\\\"\\n    }\\n}\",\n",
            "        \"generation_info\": null\n",
            "      }\n",
            "    ]\n",
            "  ],\n",
            "  \"llm_output\": null,\n",
            "  \"run\": null\n",
            "}\n",
            "\u001b[36;1m\u001b[1;3m[chain/end]\u001b[0m \u001b[1m[1:chain:SequentialChain > 4:chain:MultiPromptChain > 5:chain:LLMRouterChain > 6:chain:LLMChain] [1.57s] Exiting Chain run with output:\n",
            "\u001b[0m{\n",
            "  \"text\": \"{\\n    \\\"destination\\\": \\\"teens\\\",\\n    \\\"next_inputs\\\": {\\n        \\\"company\\\": \\\"Audio Mechanics\\\",\\n        \\\"product_name\\\": \\\"Audio Mechanics M1000 Over-Ear Headphones\\\",\\n        \\\"product_description\\\": \\\"The perfect headphones for young music lovers. With their sleek design and powerful sound, these headphones are sure to turn heads wherever you go. The over-ear design provides superior comfort, even during extended listening sessions, while the noise-canceling technology blocks out distractions so you can focus on your music.\\\"\\n    }\\n}\"\n",
            "}\n",
            "\u001b[36;1m\u001b[1;3m[chain/end]\u001b[0m \u001b[1m[1:chain:SequentialChain > 4:chain:MultiPromptChain > 5:chain:LLMRouterChain] [1.57s] Exiting Chain run with output:\n",
            "\u001b[0m{\n",
            "  \"destination\": \"teens\",\n",
            "  \"next_inputs\": {\n",
            "    \"input\": {\n",
            "      \"company\": \"Audio Mechanics\",\n",
            "      \"product_name\": \"Audio Mechanics M1000 Over-Ear Headphones\",\n",
            "      \"product_description\": \"The perfect headphones for young music lovers. With their sleek design and powerful sound, these headphones are sure to turn heads wherever you go. The over-ear design provides superior comfort, even during extended listening sessions, while the noise-canceling technology blocks out distractions so you can focus on your music.\"\n",
            "    }\n",
            "  }\n",
            "}\n",
            "\u001b[32;1m\u001b[1;3m[chain/start]\u001b[0m \u001b[1m[1:chain:SequentialChain > 4:chain:MultiPromptChain > 8:chain:LLMChain] Entering Chain run with input:\n",
            "\u001b[0m{\n",
            "  \"input\": {\n",
            "    \"company\": \"Audio Mechanics\",\n",
            "    \"product_name\": \"Audio Mechanics M1000 Over-Ear Headphones\",\n",
            "    \"product_description\": \"The perfect headphones for young music lovers. With their sleek design and powerful sound, these headphones are sure to turn heads wherever you go. The over-ear design provides superior comfort, even during extended listening sessions, while the noise-canceling technology blocks out distractions so you can focus on your music.\"\n",
            "  }\n",
            "}\n",
            "\u001b[32;1m\u001b[1;3m[llm/start]\u001b[0m \u001b[1m[1:chain:SequentialChain > 4:chain:MultiPromptChain > 8:chain:LLMChain > 9:llm:GooglePalm] Entering LLM run with input:\n",
            "\u001b[0m{\n",
            "  \"prompts\": [\n",
            "    \"You are a copywriter that writes tag lines for customers in their teens. What is a good tag line\\ngiven the following info:\\n{'company': 'Audio Mechanics', 'product_name': 'Audio Mechanics M1000 Over-Ear Headphones', 'product_description': 'The perfect headphones for young music lovers. With their sleek design and powerful sound, these headphones are sure to turn heads wherever you go. The over-ear design provides superior comfort, even during extended listening sessions, while the noise-canceling technology blocks out distractions so you can focus on your music.'}\"\n",
            "  ]\n",
            "}\n",
            "\u001b[36;1m\u001b[1;3m[llm/end]\u001b[0m \u001b[1m[1:chain:SequentialChain > 4:chain:MultiPromptChain > 8:chain:LLMChain > 9:llm:GooglePalm] [376.909ms] Exiting LLM run with output:\n",
            "\u001b[0m{\n",
            "  \"generations\": [\n",
            "    [\n",
            "      {\n",
            "        \"text\": \"**Audio Mechanics M1000 Over-Ear Headphones: Turn your world up to 11.**\",\n",
            "        \"generation_info\": null\n",
            "      }\n",
            "    ]\n",
            "  ],\n",
            "  \"llm_output\": null,\n",
            "  \"run\": null\n",
            "}\n",
            "\u001b[36;1m\u001b[1;3m[chain/end]\u001b[0m \u001b[1m[1:chain:SequentialChain > 4:chain:MultiPromptChain > 8:chain:LLMChain] [378.859ms] Exiting Chain run with output:\n",
            "\u001b[0m{\n",
            "  \"text\": \"**Audio Mechanics M1000 Over-Ear Headphones: Turn your world up to 11.**\"\n",
            "}\n",
            "\u001b[36;1m\u001b[1;3m[chain/end]\u001b[0m \u001b[1m[1:chain:SequentialChain > 4:chain:MultiPromptChain] [1.95s] Exiting Chain run with output:\n",
            "\u001b[0m{\n",
            "  \"input\": {\n",
            "    \"company\": \"Audio Mechanics\",\n",
            "    \"product_name\": \"Audio Mechanics M1000 Over-Ear Headphones\",\n",
            "    \"product_description\": \"The perfect headphones for young music lovers. With their sleek design and powerful sound, these headphones are sure to turn heads wherever you go. The over-ear design provides superior comfort, even during extended listening sessions, while the noise-canceling technology blocks out distractions so you can focus on your music.\"\n",
            "  },\n",
            "  \"text\": \"**Audio Mechanics M1000 Over-Ear Headphones: Turn your world up to 11.**\"\n",
            "}\n",
            "\u001b[36;1m\u001b[1;3m[chain/end]\u001b[0m \u001b[1m[1:chain:SequentialChain] [2.26s] Exiting Chain run with output:\n",
            "\u001b[0m{\n",
            "  \"text\": \"**Audio Mechanics M1000 Over-Ear Headphones: Turn your world up to 11.**\"\n",
            "}\n",
            "**Audio Mechanics M1000 Over-Ear Headphones: Turn your world up to 11.**\n"
          ]
        }
      ]
    },
    {
      "cell_type": "code",
      "source": [
        "# Middle-aged example.\n",
        "langchain.debug=True\n",
        "print(full_chain.run({\n",
        "    'company': \"AntiAge\",\n",
        "    'product_description': \"\"\"A luxurious anti-aging cream that reduces the appearance of wrinkles and fine lines, leaving skin looking youthful and radiant.\"\"\"\n",
        "}))\n",
        "langchain.debug=False"
      ],
      "metadata": {
        "colab": {
          "base_uri": "https://localhost:8080/"
        },
        "id": "a8H3E-ah_hYP",
        "outputId": "60e7b74d-b077-47a9-8442-59e962c75b63"
      },
      "execution_count": null,
      "outputs": [
        {
          "output_type": "stream",
          "name": "stdout",
          "text": [
            "\u001b[32;1m\u001b[1;3m[chain/start]\u001b[0m \u001b[1m[1:chain:SequentialChain] Entering Chain run with input:\n",
            "\u001b[0m{\n",
            "  \"company\": \"AntiAge\",\n",
            "  \"product_description\": \"A luxurious anti-aging cream that reduces the appearance of wrinkles and fine lines, leaving skin looking youthful and radiant.\"\n",
            "}\n",
            "\u001b[32;1m\u001b[1;3m[chain/start]\u001b[0m \u001b[1m[1:chain:SequentialChain > 2:chain:LLMChain] Entering Chain run with input:\n",
            "\u001b[0m{\n",
            "  \"company\": \"AntiAge\",\n",
            "  \"product_description\": \"A luxurious anti-aging cream that reduces the appearance of wrinkles and fine lines, leaving skin looking youthful and radiant.\"\n",
            "}\n",
            "\u001b[32;1m\u001b[1;3m[llm/start]\u001b[0m \u001b[1m[1:chain:SequentialChain > 2:chain:LLMChain > 3:llm:GooglePalm] Entering LLM run with input:\n",
            "\u001b[0m{\n",
            "  \"prompts\": [\n",
            "    \"What is a good product name for a product with the description `A luxurious anti-aging cream that reduces the appearance of wrinkles and fine lines, leaving skin looking youthful and radiant.` and made by the company AntiAge?\"\n",
            "  ]\n",
            "}\n",
            "\u001b[36;1m\u001b[1;3m[llm/end]\u001b[0m \u001b[1m[1:chain:SequentialChain > 2:chain:LLMChain > 3:llm:GooglePalm] [335.462ms] Exiting LLM run with output:\n",
            "\u001b[0m{\n",
            "  \"generations\": [\n",
            "    [\n",
            "      {\n",
            "        \"text\": \"**AntiAge Youthful Radiance Cream**\",\n",
            "        \"generation_info\": null\n",
            "      }\n",
            "    ]\n",
            "  ],\n",
            "  \"llm_output\": null,\n",
            "  \"run\": null\n",
            "}\n",
            "\u001b[36;1m\u001b[1;3m[chain/end]\u001b[0m \u001b[1m[1:chain:SequentialChain > 2:chain:LLMChain] [337.99899999999997ms] Exiting Chain run with output:\n",
            "\u001b[0m{\n",
            "  \"product_name\": \"**AntiAge Youthful Radiance Cream**\"\n",
            "}\n",
            "\u001b[32;1m\u001b[1;3m[chain/start]\u001b[0m \u001b[1m[1:chain:SequentialChain > 4:chain:MultiPromptChain] Entering Chain run with input:\n",
            "\u001b[0m{\n",
            "  \"company\": \"AntiAge\",\n",
            "  \"product_description\": \"A luxurious anti-aging cream that reduces the appearance of wrinkles and fine lines, leaving skin looking youthful and radiant.\",\n",
            "  \"product_name\": \"**AntiAge Youthful Radiance Cream**\"\n",
            "}\n",
            "\u001b[32;1m\u001b[1;3m[chain/start]\u001b[0m \u001b[1m[1:chain:SequentialChain > 4:chain:MultiPromptChain > 5:chain:LLMRouterChain] Entering Chain run with input:\n",
            "\u001b[0m{\n",
            "  \"company\": \"AntiAge\",\n",
            "  \"product_description\": \"A luxurious anti-aging cream that reduces the appearance of wrinkles and fine lines, leaving skin looking youthful and radiant.\",\n",
            "  \"product_name\": \"**AntiAge Youthful Radiance Cream**\"\n",
            "}\n",
            "\u001b[32;1m\u001b[1;3m[chain/start]\u001b[0m \u001b[1m[1:chain:SequentialChain > 4:chain:MultiPromptChain > 5:chain:LLMRouterChain > 6:chain:LLMChain] Entering Chain run with input:\n",
            "\u001b[0m{\n",
            "  \"company\": \"AntiAge\",\n",
            "  \"product_description\": \"A luxurious anti-aging cream that reduces the appearance of wrinkles and fine lines, leaving skin looking youthful and radiant.\",\n",
            "  \"product_name\": \"**AntiAge Youthful Radiance Cream**\"\n",
            "}\n",
            "\u001b[32;1m\u001b[1;3m[llm/start]\u001b[0m \u001b[1m[1:chain:SequentialChain > 4:chain:MultiPromptChain > 5:chain:LLMRouterChain > 6:chain:LLMChain > 7:llm:GooglePalm] Entering LLM run with input:\n",
            "\u001b[0m{\n",
            "  \"prompts\": [\n",
            "    \"Given a raw text input to a language model select the model prompt best suited for the input. You will be given the names of the available prompts and a description of what the prompt is best suited for. You may also revise the original input if you think that revising it will ultimately lead to a better response from the language model.\\n\\n<< FORMATTING >>\\nReturn a markdown code snippet with a JSON object formatted to look like:\\n```json\\n{\\n    \\\"destination\\\": string \\\\ name of the prompt to use or \\\"DEFAULT\\\"\\n    \\\"next_inputs\\\": {\\n        \\\"company\\\": string \\\\ name of the company from original input\\n        \\\"product_name\\\": string \\\\ name of the product from original input\\n        \\\"product_description\\\": string \\\\ description of the product from original input\\n    }\\n}\\n```\\n\\nREMEMBER: \\\"destination\\\" MUST be one of the candidate prompt names specified below OR it can be \\\"DEFAULT\\\" if the input is not well suited for any of the candidate prompts.\\nREMEMBER: \\\"next_inputs\\\" can just be the original input if you don't think any modifications are needed.\\n\\n<< CANDIDATE PROMPTS >>\\nteens: Good for customers in their teens.\\nmiddle-aged: Good for middle aged customers.\\n\\n<< INPUT >>\\ncompany: AntiAge\\nproduct_name: **AntiAge Youthful Radiance Cream** \\nproduct_description : A luxurious anti-aging cream that reduces the appearance of wrinkles and fine lines, leaving skin looking youthful and radiant.\\n\\n<< OUTPUT >>\"\n",
            "  ]\n",
            "}\n",
            "\u001b[36;1m\u001b[1;3m[llm/end]\u001b[0m \u001b[1m[1:chain:SequentialChain > 4:chain:MultiPromptChain > 5:chain:LLMRouterChain > 6:chain:LLMChain > 7:llm:GooglePalm] [1.71s] Exiting LLM run with output:\n",
            "\u001b[0m{\n",
            "  \"generations\": [\n",
            "    [\n",
            "      {\n",
            "        \"text\": \"```json\\n{\\n    \\\"destination\\\": \\\"middle-aged\\\",\\n    \\\"next_inputs\\\": {\\n        \\\"company\\\": \\\"AntiAge\\\",\\n        \\\"product_name\\\": \\\"AntiAge Youthful Radiance Cream\\\",\\n        \\\"product_description\\\": \\\"A luxurious anti-aging cream that reduces the appearance of wrinkles and fine lines, leaving skin looking youthful and radiant.\\\"\\n    }\\n}\\n```\",\n",
            "        \"generation_info\": null\n",
            "      }\n",
            "    ]\n",
            "  ],\n",
            "  \"llm_output\": null,\n",
            "  \"run\": null\n",
            "}\n",
            "\u001b[36;1m\u001b[1;3m[chain/end]\u001b[0m \u001b[1m[1:chain:SequentialChain > 4:chain:MultiPromptChain > 5:chain:LLMRouterChain > 6:chain:LLMChain] [1.72s] Exiting Chain run with output:\n",
            "\u001b[0m{\n",
            "  \"text\": \"```json\\n{\\n    \\\"destination\\\": \\\"middle-aged\\\",\\n    \\\"next_inputs\\\": {\\n        \\\"company\\\": \\\"AntiAge\\\",\\n        \\\"product_name\\\": \\\"AntiAge Youthful Radiance Cream\\\",\\n        \\\"product_description\\\": \\\"A luxurious anti-aging cream that reduces the appearance of wrinkles and fine lines, leaving skin looking youthful and radiant.\\\"\\n    }\\n}\\n```\"\n",
            "}\n",
            "\u001b[36;1m\u001b[1;3m[chain/end]\u001b[0m \u001b[1m[1:chain:SequentialChain > 4:chain:MultiPromptChain > 5:chain:LLMRouterChain] [1.72s] Exiting Chain run with output:\n",
            "\u001b[0m{\n",
            "  \"destination\": \"middle-aged\",\n",
            "  \"next_inputs\": {\n",
            "    \"input\": {\n",
            "      \"company\": \"AntiAge\",\n",
            "      \"product_name\": \"AntiAge Youthful Radiance Cream\",\n",
            "      \"product_description\": \"A luxurious anti-aging cream that reduces the appearance of wrinkles and fine lines, leaving skin looking youthful and radiant.\"\n",
            "    }\n",
            "  }\n",
            "}\n",
            "\u001b[32;1m\u001b[1;3m[chain/start]\u001b[0m \u001b[1m[1:chain:SequentialChain > 4:chain:MultiPromptChain > 8:chain:LLMChain] Entering Chain run with input:\n",
            "\u001b[0m{\n",
            "  \"input\": {\n",
            "    \"company\": \"AntiAge\",\n",
            "    \"product_name\": \"AntiAge Youthful Radiance Cream\",\n",
            "    \"product_description\": \"A luxurious anti-aging cream that reduces the appearance of wrinkles and fine lines, leaving skin looking youthful and radiant.\"\n",
            "  }\n",
            "}\n",
            "\u001b[32;1m\u001b[1;3m[llm/start]\u001b[0m \u001b[1m[1:chain:SequentialChain > 4:chain:MultiPromptChain > 8:chain:LLMChain > 9:llm:GooglePalm] Entering LLM run with input:\n",
            "\u001b[0m{\n",
            "  \"prompts\": [\n",
            "    \"You are a copywriter that writes tag line for customers in their late 30s. What is a good tag line\\ngiven the following info:\\n{'company': 'AntiAge', 'product_name': 'AntiAge Youthful Radiance Cream', 'product_description': 'A luxurious anti-aging cream that reduces the appearance of wrinkles and fine lines, leaving skin looking youthful and radiant.'}\"\n",
            "  ]\n",
            "}\n",
            "\u001b[36;1m\u001b[1;3m[llm/end]\u001b[0m \u001b[1m[1:chain:SequentialChain > 4:chain:MultiPromptChain > 8:chain:LLMChain > 9:llm:GooglePalm] [426.999ms] Exiting LLM run with output:\n",
            "\u001b[0m{\n",
            "  \"generations\": [\n",
            "    [\n",
            "      {\n",
            "        \"text\": \"**AntiAge Youthful Radiance Cream: Reverse the signs of aging and reveal your youthful glow.**\",\n",
            "        \"generation_info\": null\n",
            "      }\n",
            "    ]\n",
            "  ],\n",
            "  \"llm_output\": null,\n",
            "  \"run\": null\n",
            "}\n",
            "\u001b[36;1m\u001b[1;3m[chain/end]\u001b[0m \u001b[1m[1:chain:SequentialChain > 4:chain:MultiPromptChain > 8:chain:LLMChain] [428.213ms] Exiting Chain run with output:\n",
            "\u001b[0m{\n",
            "  \"text\": \"**AntiAge Youthful Radiance Cream: Reverse the signs of aging and reveal your youthful glow.**\"\n",
            "}\n",
            "\u001b[36;1m\u001b[1;3m[chain/end]\u001b[0m \u001b[1m[1:chain:SequentialChain > 4:chain:MultiPromptChain] [2.15s] Exiting Chain run with output:\n",
            "\u001b[0m{\n",
            "  \"input\": {\n",
            "    \"company\": \"AntiAge\",\n",
            "    \"product_name\": \"AntiAge Youthful Radiance Cream\",\n",
            "    \"product_description\": \"A luxurious anti-aging cream that reduces the appearance of wrinkles and fine lines, leaving skin looking youthful and radiant.\"\n",
            "  },\n",
            "  \"text\": \"**AntiAge Youthful Radiance Cream: Reverse the signs of aging and reveal your youthful glow.**\"\n",
            "}\n",
            "\u001b[36;1m\u001b[1;3m[chain/end]\u001b[0m \u001b[1m[1:chain:SequentialChain] [2.49s] Exiting Chain run with output:\n",
            "\u001b[0m{\n",
            "  \"text\": \"**AntiAge Youthful Radiance Cream: Reverse the signs of aging and reveal your youthful glow.**\"\n",
            "}\n",
            "**AntiAge Youthful Radiance Cream: Reverse the signs of aging and reveal your youthful glow.**\n"
          ]
        }
      ]
    },
    {
      "cell_type": "code",
      "source": [
        "# Default example.\n",
        "langchain.debug=True\n",
        "print(full_chain.run({\n",
        "    'company': \"TravelComfort\",\n",
        "    'product_description': \"\"\"A portable luggage scale that is perfect for frequent work travels. It is lightweight and compact, making\n",
        "it easy to take with you on your next trip. The scale has a large LCD display that makes it easy to read, even in bright conditions.\"\"\"\n",
        "}))\n",
        "langchain.debug=True"
      ],
      "metadata": {
        "colab": {
          "base_uri": "https://localhost:8080/"
        },
        "id": "VqP_8ren021p",
        "outputId": "e54f5e64-4e95-4e9c-c918-0cf52e220afa"
      },
      "execution_count": null,
      "outputs": [
        {
          "output_type": "stream",
          "name": "stdout",
          "text": [
            "\u001b[32;1m\u001b[1;3m[chain/start]\u001b[0m \u001b[1m[1:chain:SequentialChain] Entering Chain run with input:\n",
            "\u001b[0m{\n",
            "  \"company\": \"TravelComfort\",\n",
            "  \"product_description\": \"A portable luggage scale that is perfect for frequent work travels. It is lightweight and compact, making \\nit easy to take with you on your next trip. The scale has a large LCD display that makes it easy to read, even in bright conditions.\"\n",
            "}\n",
            "\u001b[32;1m\u001b[1;3m[chain/start]\u001b[0m \u001b[1m[1:chain:SequentialChain > 2:chain:LLMChain] Entering Chain run with input:\n",
            "\u001b[0m{\n",
            "  \"company\": \"TravelComfort\",\n",
            "  \"product_description\": \"A portable luggage scale that is perfect for frequent work travels. It is lightweight and compact, making \\nit easy to take with you on your next trip. The scale has a large LCD display that makes it easy to read, even in bright conditions.\"\n",
            "}\n",
            "\u001b[32;1m\u001b[1;3m[llm/start]\u001b[0m \u001b[1m[1:chain:SequentialChain > 2:chain:LLMChain > 3:llm:GooglePalm] Entering LLM run with input:\n",
            "\u001b[0m{\n",
            "  \"prompts\": [\n",
            "    \"What is a good product name for a product with the description `A portable luggage scale that is perfect for frequent work travels. It is lightweight and compact, making \\nit easy to take with you on your next trip. The scale has a large LCD display that makes it easy to read, even in bright conditions.` and made by the company TravelComfort?\"\n",
            "  ]\n",
            "}\n",
            "\u001b[36;1m\u001b[1;3m[llm/end]\u001b[0m \u001b[1m[1:chain:SequentialChain > 2:chain:LLMChain > 3:llm:GooglePalm] [626.726ms] Exiting LLM run with output:\n",
            "\u001b[0m{\n",
            "  \"generations\": [\n",
            "    [\n",
            "      {\n",
            "        \"text\": \"TravelComfort Luggage Scale\",\n",
            "        \"generation_info\": null\n",
            "      }\n",
            "    ]\n",
            "  ],\n",
            "  \"llm_output\": null,\n",
            "  \"run\": null\n",
            "}\n",
            "\u001b[36;1m\u001b[1;3m[chain/end]\u001b[0m \u001b[1m[1:chain:SequentialChain > 2:chain:LLMChain] [630.326ms] Exiting Chain run with output:\n",
            "\u001b[0m{\n",
            "  \"product_name\": \"TravelComfort Luggage Scale\"\n",
            "}\n",
            "\u001b[32;1m\u001b[1;3m[chain/start]\u001b[0m \u001b[1m[1:chain:SequentialChain > 4:chain:MultiPromptChain] Entering Chain run with input:\n",
            "\u001b[0m{\n",
            "  \"company\": \"TravelComfort\",\n",
            "  \"product_description\": \"A portable luggage scale that is perfect for frequent work travels. It is lightweight and compact, making \\nit easy to take with you on your next trip. The scale has a large LCD display that makes it easy to read, even in bright conditions.\",\n",
            "  \"product_name\": \"TravelComfort Luggage Scale\"\n",
            "}\n",
            "\u001b[32;1m\u001b[1;3m[chain/start]\u001b[0m \u001b[1m[1:chain:SequentialChain > 4:chain:MultiPromptChain > 5:chain:LLMRouterChain] Entering Chain run with input:\n",
            "\u001b[0m{\n",
            "  \"company\": \"TravelComfort\",\n",
            "  \"product_description\": \"A portable luggage scale that is perfect for frequent work travels. It is lightweight and compact, making \\nit easy to take with you on your next trip. The scale has a large LCD display that makes it easy to read, even in bright conditions.\",\n",
            "  \"product_name\": \"TravelComfort Luggage Scale\"\n",
            "}\n",
            "\u001b[32;1m\u001b[1;3m[chain/start]\u001b[0m \u001b[1m[1:chain:SequentialChain > 4:chain:MultiPromptChain > 5:chain:LLMRouterChain > 6:chain:LLMChain] Entering Chain run with input:\n",
            "\u001b[0m{\n",
            "  \"company\": \"TravelComfort\",\n",
            "  \"product_description\": \"A portable luggage scale that is perfect for frequent work travels. It is lightweight and compact, making \\nit easy to take with you on your next trip. The scale has a large LCD display that makes it easy to read, even in bright conditions.\",\n",
            "  \"product_name\": \"TravelComfort Luggage Scale\"\n",
            "}\n",
            "\u001b[32;1m\u001b[1;3m[llm/start]\u001b[0m \u001b[1m[1:chain:SequentialChain > 4:chain:MultiPromptChain > 5:chain:LLMRouterChain > 6:chain:LLMChain > 7:llm:GooglePalm] Entering LLM run with input:\n",
            "\u001b[0m{\n",
            "  \"prompts\": [\n",
            "    \"Given a raw text input to a language model select the model prompt best suited for the input. You will be given the names of the available prompts and a description of what the prompt is best suited for. You may also revise the original input if you think that revising it will ultimately lead to a better response from the language model.\\n\\n<< FORMATTING >>\\nReturn a markdown code snippet with a JSON object formatted to look like:\\n```json\\n{\\n    \\\"destination\\\": string \\\\ name of the prompt to use or \\\"DEFAULT\\\"\\n    \\\"next_inputs\\\": {\\n        \\\"company\\\": string \\\\ name of the company from original input\\n        \\\"product_name\\\": string \\\\ name of the product from original input\\n        \\\"product_description\\\": string \\\\ description of the product from original input\\n    }\\n}\\n```\\n\\nREMEMBER: \\\"destination\\\" MUST be one of the candidate prompt names specified below OR it can be \\\"DEFAULT\\\" if the input is not well suited for any of the candidate prompts.\\nREMEMBER: \\\"next_inputs\\\" can just be the original input if you don't think any modifications are needed.\\n\\n<< CANDIDATE PROMPTS >>\\nteens: Good for customers in their teens.\\nmiddle-aged: Good for middle aged customers.\\n\\n<< INPUT >>\\ncompany: TravelComfort\\nproduct_name: TravelComfort Luggage Scale \\nproduct_description : A portable luggage scale that is perfect for frequent work travels. It is lightweight and compact, making \\nit easy to take with you on your next trip. The scale has a large LCD display that makes it easy to read, even in bright conditions.\\n\\n<< OUTPUT >>\"\n",
            "  ]\n",
            "}\n",
            "\u001b[36;1m\u001b[1;3m[llm/end]\u001b[0m \u001b[1m[1:chain:SequentialChain > 4:chain:MultiPromptChain > 5:chain:LLMRouterChain > 6:chain:LLMChain > 7:llm:GooglePalm] [1.17s] Exiting LLM run with output:\n",
            "\u001b[0m{\n",
            "  \"generations\": [\n",
            "    [\n",
            "      {\n",
            "        \"text\": \"{\\n    \\\"destination\\\": \\\"DEFAULT\\\",\\n    \\\"next_inputs\\\": {\\n        \\\"company\\\": \\\"TravelComfort\\\",\\n        \\\"product_name\\\": \\\"TravelComfort Luggage Scale\\\",\\n        \\\"product_description\\\": \\\"A portable luggage scale that is perfect for frequent work travels. It is lightweight and compact, making it easy to take with you on your next trip. The scale has a large LCD display that makes it easy to read, even in bright conditions.\\\"\\n    }\\n}\",\n",
            "        \"generation_info\": null\n",
            "      }\n",
            "    ]\n",
            "  ],\n",
            "  \"llm_output\": null,\n",
            "  \"run\": null\n",
            "}\n",
            "\u001b[36;1m\u001b[1;3m[chain/end]\u001b[0m \u001b[1m[1:chain:SequentialChain > 4:chain:MultiPromptChain > 5:chain:LLMRouterChain > 6:chain:LLMChain] [1.17s] Exiting Chain run with output:\n",
            "\u001b[0m{\n",
            "  \"text\": \"{\\n    \\\"destination\\\": \\\"DEFAULT\\\",\\n    \\\"next_inputs\\\": {\\n        \\\"company\\\": \\\"TravelComfort\\\",\\n        \\\"product_name\\\": \\\"TravelComfort Luggage Scale\\\",\\n        \\\"product_description\\\": \\\"A portable luggage scale that is perfect for frequent work travels. It is lightweight and compact, making it easy to take with you on your next trip. The scale has a large LCD display that makes it easy to read, even in bright conditions.\\\"\\n    }\\n}\"\n",
            "}\n",
            "\u001b[36;1m\u001b[1;3m[chain/end]\u001b[0m \u001b[1m[1:chain:SequentialChain > 4:chain:MultiPromptChain > 5:chain:LLMRouterChain] [1.17s] Exiting Chain run with output:\n",
            "\u001b[0m{\n",
            "  \"destination\": null,\n",
            "  \"next_inputs\": {\n",
            "    \"input\": {\n",
            "      \"company\": \"TravelComfort\",\n",
            "      \"product_name\": \"TravelComfort Luggage Scale\",\n",
            "      \"product_description\": \"A portable luggage scale that is perfect for frequent work travels. It is lightweight and compact, making it easy to take with you on your next trip. The scale has a large LCD display that makes it easy to read, even in bright conditions.\"\n",
            "    }\n",
            "  }\n",
            "}\n",
            "\u001b[32;1m\u001b[1;3m[chain/start]\u001b[0m \u001b[1m[1:chain:SequentialChain > 4:chain:MultiPromptChain > 8:chain:LLMChain] Entering Chain run with input:\n",
            "\u001b[0m{\n",
            "  \"input\": {\n",
            "    \"company\": \"TravelComfort\",\n",
            "    \"product_name\": \"TravelComfort Luggage Scale\",\n",
            "    \"product_description\": \"A portable luggage scale that is perfect for frequent work travels. It is lightweight and compact, making it easy to take with you on your next trip. The scale has a large LCD display that makes it easy to read, even in bright conditions.\"\n",
            "  }\n",
            "}\n",
            "\u001b[32;1m\u001b[1;3m[llm/start]\u001b[0m \u001b[1m[1:chain:SequentialChain > 4:chain:MultiPromptChain > 8:chain:LLMChain > 9:llm:GooglePalm] Entering LLM run with input:\n",
            "\u001b[0m{\n",
            "  \"prompts\": [\n",
            "    \"You are a copywriter that writes tag lines. What is a good tag line\\ngiven the following info:\\n{'company': 'TravelComfort', 'product_name': 'TravelComfort Luggage Scale', 'product_description': 'A portable luggage scale that is perfect for frequent work travels. It is lightweight and compact, making it easy to take with you on your next trip. The scale has a large LCD display that makes it easy to read, even in bright conditions.'}\"\n",
            "  ]\n",
            "}\n",
            "\u001b[36;1m\u001b[1;3m[llm/end]\u001b[0m \u001b[1m[1:chain:SequentialChain > 4:chain:MultiPromptChain > 8:chain:LLMChain > 9:llm:GooglePalm] [340.463ms] Exiting LLM run with output:\n",
            "\u001b[0m{\n",
            "  \"generations\": [\n",
            "    [\n",
            "      {\n",
            "        \"text\": \"**TravelComfort Luggage Scale: The perfect way to keep your luggage weight under control.**\",\n",
            "        \"generation_info\": null\n",
            "      }\n",
            "    ]\n",
            "  ],\n",
            "  \"llm_output\": null,\n",
            "  \"run\": null\n",
            "}\n",
            "\u001b[36;1m\u001b[1;3m[chain/end]\u001b[0m \u001b[1m[1:chain:SequentialChain > 4:chain:MultiPromptChain > 8:chain:LLMChain] [342.126ms] Exiting Chain run with output:\n",
            "\u001b[0m{\n",
            "  \"text\": \"**TravelComfort Luggage Scale: The perfect way to keep your luggage weight under control.**\"\n",
            "}\n",
            "\u001b[36;1m\u001b[1;3m[chain/end]\u001b[0m \u001b[1m[1:chain:SequentialChain > 4:chain:MultiPromptChain] [1.51s] Exiting Chain run with output:\n",
            "\u001b[0m{\n",
            "  \"input\": {\n",
            "    \"company\": \"TravelComfort\",\n",
            "    \"product_name\": \"TravelComfort Luggage Scale\",\n",
            "    \"product_description\": \"A portable luggage scale that is perfect for frequent work travels. It is lightweight and compact, making it easy to take with you on your next trip. The scale has a large LCD display that makes it easy to read, even in bright conditions.\"\n",
            "  },\n",
            "  \"text\": \"**TravelComfort Luggage Scale: The perfect way to keep your luggage weight under control.**\"\n",
            "}\n",
            "\u001b[36;1m\u001b[1;3m[chain/end]\u001b[0m \u001b[1m[1:chain:SequentialChain] [2.15s] Exiting Chain run with output:\n",
            "\u001b[0m{\n",
            "  \"text\": \"**TravelComfort Luggage Scale: The perfect way to keep your luggage weight under control.**\"\n",
            "}\n",
            "**TravelComfort Luggage Scale: The perfect way to keep your luggage weight under control.**\n"
          ]
        }
      ]
    }
  ]
}