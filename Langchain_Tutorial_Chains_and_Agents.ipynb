{
  "nbformat": 4,
  "nbformat_minor": 0,
  "metadata": {
    "colab": {
      "provenance": []
    },
    "kernelspec": {
      "name": "python3",
      "display_name": "Python 3"
    },
    "language_info": {
      "name": "python"
    }
  },
  "cells": [
    {
      "cell_type": "markdown",
      "source": [
        "## Overview\n",
        "\n",
        "This colab explores chains available in Langchain through practical examples.\n",
        "\n",
        "We build a basic use case of generating the product name and tagline given a description of the product.\n",
        "\n",
        "This is followed by a more complex case where the tagline is decided based on the target age group of the product.\n",
        "\n",
        "Design of the flow is provided in the deck available on the [Github repo](https://github.com/InFoCusp/langchain_tutorial/tree/main)"
      ],
      "metadata": {
        "id": "SYV7wsaEC77C"
      }
    },
    {
      "cell_type": "markdown",
      "source": [
        "# Installs"
      ],
      "metadata": {
        "id": "xyLTOnKtmBne"
      }
    },
    {
      "cell_type": "code",
      "source": [
        "! pip install langchain\n",
        "\n",
        "# For Google PALM access\n",
        "! pip install google-generativeai\n",
        "\n",
        "# For Serp API\n",
        "! pip install google-search-results"
      ],
      "metadata": {
        "id": "a7udBETamCRT",
        "colab": {
          "base_uri": "https://localhost:8080/",
          "height": 1000
        },
        "outputId": "bb8aae6f-b1cd-4e6c-a2a2-a2bb73819781"
      },
      "execution_count": 1,
      "outputs": [
        {
          "output_type": "stream",
          "name": "stdout",
          "text": [
            "Collecting langchain\n",
            "  Downloading langchain-0.0.321-py3-none-any.whl (1.9 MB)\n",
            "\u001b[?25l     \u001b[90m━━━━━━━━━━━━━━━━━━━━━━━━━━━━━━━━━━━━━━━━\u001b[0m \u001b[32m0.0/1.9 MB\u001b[0m \u001b[31m?\u001b[0m eta \u001b[36m-:--:--\u001b[0m\r\u001b[2K     \u001b[91m━━\u001b[0m\u001b[90m╺\u001b[0m\u001b[90m━━━━━━━━━━━━━━━━━━━━━━━━━━━━━━━━━━━━━\u001b[0m \u001b[32m0.1/1.9 MB\u001b[0m \u001b[31m3.2 MB/s\u001b[0m eta \u001b[36m0:00:01\u001b[0m\r\u001b[2K     \u001b[91m━━━━━━━━━━━━━━━━━━━━\u001b[0m\u001b[90m╺\u001b[0m\u001b[90m━━━━━━━━━━━━━━━━━━━\u001b[0m \u001b[32m1.0/1.9 MB\u001b[0m \u001b[31m14.1 MB/s\u001b[0m eta \u001b[36m0:00:01\u001b[0m\r\u001b[2K     \u001b[90m━━━━━━━━━━━━━━━━━━━━━━━━━━━━━━━━━━━━━━━━\u001b[0m \u001b[32m1.9/1.9 MB\u001b[0m \u001b[31m19.5 MB/s\u001b[0m eta \u001b[36m0:00:00\u001b[0m\n",
            "\u001b[?25hRequirement already satisfied: PyYAML>=5.3 in /usr/local/lib/python3.10/dist-packages (from langchain) (6.0.1)\n",
            "Requirement already satisfied: SQLAlchemy<3,>=1.4 in /usr/local/lib/python3.10/dist-packages (from langchain) (2.0.22)\n",
            "Requirement already satisfied: aiohttp<4.0.0,>=3.8.3 in /usr/local/lib/python3.10/dist-packages (from langchain) (3.8.6)\n",
            "Requirement already satisfied: anyio<4.0 in /usr/local/lib/python3.10/dist-packages (from langchain) (3.7.1)\n",
            "Requirement already satisfied: async-timeout<5.0.0,>=4.0.0 in /usr/local/lib/python3.10/dist-packages (from langchain) (4.0.3)\n",
            "Collecting dataclasses-json<0.7,>=0.5.7 (from langchain)\n",
            "  Downloading dataclasses_json-0.6.1-py3-none-any.whl (27 kB)\n",
            "Collecting jsonpatch<2.0,>=1.33 (from langchain)\n",
            "  Downloading jsonpatch-1.33-py2.py3-none-any.whl (12 kB)\n",
            "Collecting langsmith<0.1.0,>=0.0.43 (from langchain)\n",
            "  Downloading langsmith-0.0.49-py3-none-any.whl (41 kB)\n",
            "\u001b[2K     \u001b[90m━━━━━━━━━━━━━━━━━━━━━━━━━━━━━━━━━━━━━━━━\u001b[0m \u001b[32m41.9/41.9 kB\u001b[0m \u001b[31m4.7 MB/s\u001b[0m eta \u001b[36m0:00:00\u001b[0m\n",
            "\u001b[?25hRequirement already satisfied: numpy<2,>=1 in /usr/local/lib/python3.10/dist-packages (from langchain) (1.23.5)\n",
            "Requirement already satisfied: pydantic<3,>=1 in /usr/local/lib/python3.10/dist-packages (from langchain) (1.10.13)\n",
            "Requirement already satisfied: requests<3,>=2 in /usr/local/lib/python3.10/dist-packages (from langchain) (2.31.0)\n",
            "Requirement already satisfied: tenacity<9.0.0,>=8.1.0 in /usr/local/lib/python3.10/dist-packages (from langchain) (8.2.3)\n",
            "Requirement already satisfied: attrs>=17.3.0 in /usr/local/lib/python3.10/dist-packages (from aiohttp<4.0.0,>=3.8.3->langchain) (23.1.0)\n",
            "Requirement already satisfied: charset-normalizer<4.0,>=2.0 in /usr/local/lib/python3.10/dist-packages (from aiohttp<4.0.0,>=3.8.3->langchain) (3.3.0)\n",
            "Requirement already satisfied: multidict<7.0,>=4.5 in /usr/local/lib/python3.10/dist-packages (from aiohttp<4.0.0,>=3.8.3->langchain) (6.0.4)\n",
            "Requirement already satisfied: yarl<2.0,>=1.0 in /usr/local/lib/python3.10/dist-packages (from aiohttp<4.0.0,>=3.8.3->langchain) (1.9.2)\n",
            "Requirement already satisfied: frozenlist>=1.1.1 in /usr/local/lib/python3.10/dist-packages (from aiohttp<4.0.0,>=3.8.3->langchain) (1.4.0)\n",
            "Requirement already satisfied: aiosignal>=1.1.2 in /usr/local/lib/python3.10/dist-packages (from aiohttp<4.0.0,>=3.8.3->langchain) (1.3.1)\n",
            "Requirement already satisfied: idna>=2.8 in /usr/local/lib/python3.10/dist-packages (from anyio<4.0->langchain) (3.4)\n",
            "Requirement already satisfied: sniffio>=1.1 in /usr/local/lib/python3.10/dist-packages (from anyio<4.0->langchain) (1.3.0)\n",
            "Requirement already satisfied: exceptiongroup in /usr/local/lib/python3.10/dist-packages (from anyio<4.0->langchain) (1.1.3)\n",
            "Collecting marshmallow<4.0.0,>=3.18.0 (from dataclasses-json<0.7,>=0.5.7->langchain)\n",
            "  Downloading marshmallow-3.20.1-py3-none-any.whl (49 kB)\n",
            "\u001b[2K     \u001b[90m━━━━━━━━━━━━━━━━━━━━━━━━━━━━━━━━━━━━━━━━\u001b[0m \u001b[32m49.4/49.4 kB\u001b[0m \u001b[31m5.6 MB/s\u001b[0m eta \u001b[36m0:00:00\u001b[0m\n",
            "\u001b[?25hCollecting typing-inspect<1,>=0.4.0 (from dataclasses-json<0.7,>=0.5.7->langchain)\n",
            "  Downloading typing_inspect-0.9.0-py3-none-any.whl (8.8 kB)\n",
            "Collecting jsonpointer>=1.9 (from jsonpatch<2.0,>=1.33->langchain)\n",
            "  Downloading jsonpointer-2.4-py2.py3-none-any.whl (7.8 kB)\n",
            "Requirement already satisfied: typing-extensions>=4.2.0 in /usr/local/lib/python3.10/dist-packages (from pydantic<3,>=1->langchain) (4.5.0)\n",
            "Requirement already satisfied: urllib3<3,>=1.21.1 in /usr/local/lib/python3.10/dist-packages (from requests<3,>=2->langchain) (2.0.7)\n",
            "Requirement already satisfied: certifi>=2017.4.17 in /usr/local/lib/python3.10/dist-packages (from requests<3,>=2->langchain) (2023.7.22)\n",
            "Requirement already satisfied: greenlet!=0.4.17 in /usr/local/lib/python3.10/dist-packages (from SQLAlchemy<3,>=1.4->langchain) (3.0.0)\n",
            "Requirement already satisfied: packaging>=17.0 in /usr/local/lib/python3.10/dist-packages (from marshmallow<4.0.0,>=3.18.0->dataclasses-json<0.7,>=0.5.7->langchain) (23.2)\n",
            "Collecting mypy-extensions>=0.3.0 (from typing-inspect<1,>=0.4.0->dataclasses-json<0.7,>=0.5.7->langchain)\n",
            "  Downloading mypy_extensions-1.0.0-py3-none-any.whl (4.7 kB)\n",
            "Installing collected packages: mypy-extensions, marshmallow, jsonpointer, typing-inspect, langsmith, jsonpatch, dataclasses-json, langchain\n",
            "Successfully installed dataclasses-json-0.6.1 jsonpatch-1.33 jsonpointer-2.4 langchain-0.0.321 langsmith-0.0.49 marshmallow-3.20.1 mypy-extensions-1.0.0 typing-inspect-0.9.0\n",
            "Collecting google-generativeai\n",
            "  Downloading google_generativeai-0.2.2-py3-none-any.whl (133 kB)\n",
            "\u001b[2K     \u001b[90m━━━━━━━━━━━━━━━━━━━━━━━━━━━━━━━━━━━━━━━━\u001b[0m \u001b[32m133.2/133.2 kB\u001b[0m \u001b[31m2.2 MB/s\u001b[0m eta \u001b[36m0:00:00\u001b[0m\n",
            "\u001b[?25hCollecting google-ai-generativelanguage==0.3.3 (from google-generativeai)\n",
            "  Downloading google_ai_generativelanguage-0.3.3-py3-none-any.whl (267 kB)\n",
            "\u001b[2K     \u001b[90m━━━━━━━━━━━━━━━━━━━━━━━━━━━━━━━━━━━━━━━━\u001b[0m \u001b[32m267.9/267.9 kB\u001b[0m \u001b[31m9.8 MB/s\u001b[0m eta \u001b[36m0:00:00\u001b[0m\n",
            "\u001b[?25hRequirement already satisfied: google-auth in /usr/local/lib/python3.10/dist-packages (from google-generativeai) (2.17.3)\n",
            "Requirement already satisfied: google-api-core in /usr/local/lib/python3.10/dist-packages (from google-generativeai) (2.11.1)\n",
            "Requirement already satisfied: protobuf in /usr/local/lib/python3.10/dist-packages (from google-generativeai) (3.20.3)\n",
            "Requirement already satisfied: tqdm in /usr/local/lib/python3.10/dist-packages (from google-generativeai) (4.66.1)\n",
            "Requirement already satisfied: proto-plus<2.0.0dev,>=1.22.0 in /usr/local/lib/python3.10/dist-packages (from google-ai-generativelanguage==0.3.3->google-generativeai) (1.22.3)\n",
            "Requirement already satisfied: googleapis-common-protos<2.0.dev0,>=1.56.2 in /usr/local/lib/python3.10/dist-packages (from google-api-core->google-generativeai) (1.61.0)\n",
            "Requirement already satisfied: requests<3.0.0.dev0,>=2.18.0 in /usr/local/lib/python3.10/dist-packages (from google-api-core->google-generativeai) (2.31.0)\n",
            "Requirement already satisfied: cachetools<6.0,>=2.0.0 in /usr/local/lib/python3.10/dist-packages (from google-auth->google-generativeai) (5.3.1)\n",
            "Requirement already satisfied: pyasn1-modules>=0.2.1 in /usr/local/lib/python3.10/dist-packages (from google-auth->google-generativeai) (0.3.0)\n",
            "Requirement already satisfied: six>=1.9.0 in /usr/local/lib/python3.10/dist-packages (from google-auth->google-generativeai) (1.16.0)\n",
            "Requirement already satisfied: rsa<5,>=3.1.4 in /usr/local/lib/python3.10/dist-packages (from google-auth->google-generativeai) (4.9)\n",
            "Requirement already satisfied: grpcio<2.0dev,>=1.33.2 in /usr/local/lib/python3.10/dist-packages (from google-api-core->google-generativeai) (1.59.0)\n",
            "Requirement already satisfied: grpcio-status<2.0.dev0,>=1.33.2 in /usr/local/lib/python3.10/dist-packages (from google-api-core->google-generativeai) (1.48.2)\n",
            "Requirement already satisfied: pyasn1<0.6.0,>=0.4.6 in /usr/local/lib/python3.10/dist-packages (from pyasn1-modules>=0.2.1->google-auth->google-generativeai) (0.5.0)\n",
            "Requirement already satisfied: charset-normalizer<4,>=2 in /usr/local/lib/python3.10/dist-packages (from requests<3.0.0.dev0,>=2.18.0->google-api-core->google-generativeai) (3.3.0)\n",
            "Requirement already satisfied: idna<4,>=2.5 in /usr/local/lib/python3.10/dist-packages (from requests<3.0.0.dev0,>=2.18.0->google-api-core->google-generativeai) (3.4)\n",
            "Requirement already satisfied: urllib3<3,>=1.21.1 in /usr/local/lib/python3.10/dist-packages (from requests<3.0.0.dev0,>=2.18.0->google-api-core->google-generativeai) (2.0.7)\n",
            "Requirement already satisfied: certifi>=2017.4.17 in /usr/local/lib/python3.10/dist-packages (from requests<3.0.0.dev0,>=2.18.0->google-api-core->google-generativeai) (2023.7.22)\n",
            "Installing collected packages: google-ai-generativelanguage, google-generativeai\n",
            "Successfully installed google-ai-generativelanguage-0.3.3 google-generativeai-0.2.2\n"
          ]
        },
        {
          "output_type": "display_data",
          "data": {
            "application/vnd.colab-display-data+json": {
              "pip_warning": {
                "packages": [
                  "google"
                ]
              }
            }
          },
          "metadata": {}
        },
        {
          "output_type": "stream",
          "name": "stdout",
          "text": [
            "Collecting google-search-results\n",
            "  Downloading google_search_results-2.4.2.tar.gz (18 kB)\n",
            "  Preparing metadata (setup.py) ... \u001b[?25l\u001b[?25hdone\n",
            "Requirement already satisfied: requests in /usr/local/lib/python3.10/dist-packages (from google-search-results) (2.31.0)\n",
            "Requirement already satisfied: charset-normalizer<4,>=2 in /usr/local/lib/python3.10/dist-packages (from requests->google-search-results) (3.3.0)\n",
            "Requirement already satisfied: idna<4,>=2.5 in /usr/local/lib/python3.10/dist-packages (from requests->google-search-results) (3.4)\n",
            "Requirement already satisfied: urllib3<3,>=1.21.1 in /usr/local/lib/python3.10/dist-packages (from requests->google-search-results) (2.0.7)\n",
            "Requirement already satisfied: certifi>=2017.4.17 in /usr/local/lib/python3.10/dist-packages (from requests->google-search-results) (2023.7.22)\n",
            "Building wheels for collected packages: google-search-results\n",
            "  Building wheel for google-search-results (setup.py) ... \u001b[?25l\u001b[?25hdone\n",
            "  Created wheel for google-search-results: filename=google_search_results-2.4.2-py3-none-any.whl size=32003 sha256=dc5b1885c2331b741b0ce76f14de8a37cffbc3338d9708238cbcd481ab22bc45\n",
            "  Stored in directory: /root/.cache/pip/wheels/d3/b2/c3/03302d12bb44a2cdff3c9371f31b72c0c4e84b8d2285eeac53\n",
            "Successfully built google-search-results\n",
            "Installing collected packages: google-search-results\n",
            "Successfully installed google-search-results-2.4.2\n"
          ]
        }
      ]
    },
    {
      "cell_type": "markdown",
      "source": [
        "# Imports and General setup"
      ],
      "metadata": {
        "id": "hyxkkC5gmgbY"
      }
    },
    {
      "cell_type": "code",
      "source": [
        "import os\n",
        "import json\n",
        "import time\n",
        "from pprint import pprint\n",
        "from typing import Dict, Tuple, List, Union, Optional, Callable, Any"
      ],
      "metadata": {
        "id": "y5kUJfL4mswz"
      },
      "execution_count": 26,
      "outputs": []
    },
    {
      "cell_type": "code",
      "source": [
        "# Connect to drive.\n",
        "from google.colab import drive\n",
        "drive.mount('/content/drive')"
      ],
      "metadata": {
        "colab": {
          "base_uri": "https://localhost:8080/"
        },
        "id": "DMr3PPoQmoVW",
        "outputId": "bd1432f4-2e56-4250-d2b0-5ed059cb0ccd"
      },
      "execution_count": 3,
      "outputs": [
        {
          "output_type": "stream",
          "name": "stdout",
          "text": [
            "Mounted at /content/drive\n"
          ]
        }
      ]
    },
    {
      "cell_type": "markdown",
      "source": [
        "# PALM Setup"
      ],
      "metadata": {
        "id": "vH7kHiNDl9nE"
      }
    },
    {
      "cell_type": "code",
      "source": [
        "# Generate yours @ https://developers.generativeai.google/products/palm\n",
        "with open('/content/drive/My Drive/LangChain course/google_palm_key.txt', 'r') as f:\n",
        "  palm_api_key = f.readlines()[0].strip('\\n')\n",
        "\n",
        "os.environ[\"GOOGLE_API_KEY\"] = palm_api_key"
      ],
      "metadata": {
        "id": "kOX8_A-3tKrV"
      },
      "execution_count": 4,
      "outputs": []
    },
    {
      "cell_type": "code",
      "execution_count": 5,
      "metadata": {
        "colab": {
          "base_uri": "https://localhost:8080/"
        },
        "id": "XBTtTj8Kix50",
        "outputId": "ffcfb252-ec92-44ca-8d85-c115f617e1bd"
      },
      "outputs": [
        {
          "output_type": "execute_result",
          "data": {
            "text/plain": [
              "GooglePalm(client=<module 'google.generativeai' from '/usr/local/lib/python3.10/dist-packages/google/generativeai/__init__.py'>, temperature=0.0, max_output_tokens=256)"
            ]
          },
          "metadata": {},
          "execution_count": 5
        }
      ],
      "source": [
        "import langchain\n",
        "from langchain.prompts import PromptTemplate\n",
        "from langchain.llms.google_palm import GooglePalm\n",
        "\n",
        "llm = GooglePalm(temperature=0.0, max_output_tokens=256)\n",
        "llm"
      ]
    },
    {
      "cell_type": "markdown",
      "source": [
        "# Chains"
      ],
      "metadata": {
        "id": "xoIFyCXPl7pr"
      }
    },
    {
      "cell_type": "markdown",
      "source": [
        "## LLMChain"
      ],
      "metadata": {
        "id": "pWBq8PItpxvL"
      }
    },
    {
      "cell_type": "code",
      "source": [
        "from langchain.chains import LLMChain"
      ],
      "metadata": {
        "id": "Yl07S9_9p2l9"
      },
      "execution_count": null,
      "outputs": []
    },
    {
      "cell_type": "code",
      "source": [
        "company = \"Audio Mechanics\"\n",
        "\n",
        "product_description = \"\"\"The perfect headphones for young music lovers.\n",
        "With their sleek design and powerful sound, these headphones are sure to turn heads wherever you go. The over-ear design provides\n",
        "superior comfort, even during extended listening sessions, while the noise-canceling technology blocks out distractions so you\n",
        "can focus on your music.\"\"\""
      ],
      "metadata": {
        "id": "fXZKBYnhOYq1"
      },
      "execution_count": null,
      "outputs": []
    },
    {
      "cell_type": "markdown",
      "source": [
        "### Name generator chain"
      ],
      "metadata": {
        "id": "HYuyNE-PMfkZ"
      }
    },
    {
      "cell_type": "code",
      "source": [
        "prompt = PromptTemplate(\n",
        "    input_variables=[\"company\", \"product_description\"],\n",
        "    template=\"\"\"What is a good product name for a product with the description `{product_description}` and made by the company {company}?\"\"\",\n",
        ")\n",
        "\n",
        "name_generator_chain = LLMChain(llm=llm, prompt=prompt,\n",
        "                                output_key='product_name')\n",
        "\n",
        "print(\n",
        "    name_generator_chain.run({\n",
        "        'company': company,\n",
        "        'product_description': product_description,\n",
        "    })\n",
        ")"
      ],
      "metadata": {
        "colab": {
          "base_uri": "https://localhost:8080/"
        },
        "id": "bQEE9LGJl5-q",
        "outputId": "e356fec8-0026-46b6-dc7e-20dcc86c8fe2"
      },
      "execution_count": null,
      "outputs": [
        {
          "output_type": "stream",
          "name": "stdout",
          "text": [
            "Audio Mechanics M1000 Over-Ear Headphones\n"
          ]
        }
      ]
    },
    {
      "cell_type": "markdown",
      "source": [
        "### Tag-line generator chain"
      ],
      "metadata": {
        "id": "zojHtRBtMkGT"
      }
    },
    {
      "cell_type": "code",
      "source": [
        "prompt = PromptTemplate(\n",
        "    input_variables=[\"company\", \"product_description\", \"product_name\"],\n",
        "    template=\"\"\"You are a copywriter that writes tag lines. What is a good tag line for\n",
        "a product called {product_name} with the description `{product_description}` and made by the company {company}?\"\"\",\n",
        ")\n",
        "\n",
        "tagline_generator_chain = LLMChain(llm=llm, prompt=prompt,\n",
        "                                   output_key=\"tag-line\")\n",
        "\n",
        "print(tagline_generator_chain.run({\n",
        "    'company': company,\n",
        "    'product_description': product_description,\n",
        "    'product_name': 'Audio Mechanics M1000 Over-Ear Headphones'\n",
        "}))"
      ],
      "metadata": {
        "colab": {
          "base_uri": "https://localhost:8080/"
        },
        "id": "WcvJRGafxdU2",
        "outputId": "d95de3af-afee-4212-cdf8-25bcada079ec"
      },
      "execution_count": null,
      "outputs": [
        {
          "output_type": "stream",
          "name": "stdout",
          "text": [
            "**Audio Mechanics M1000 Over-Ear Headphones: Sleek design, powerful sound, and superior comfort.**\n"
          ]
        }
      ]
    },
    {
      "cell_type": "markdown",
      "source": [
        "## Sequential Chain"
      ],
      "metadata": {
        "id": "soJB0JJXxGKa"
      }
    },
    {
      "cell_type": "code",
      "source": [
        "from langchain.chains import SequentialChain\n",
        "\n",
        "full_chain = SequentialChain(\n",
        "    chains=[name_generator_chain, tagline_generator_chain],\n",
        "    input_variables=[\"company\", \"product_description\"],\n",
        "    output_variables=[\"product_name\", \"tag-line\"],\n",
        ")\n",
        "\n",
        "pprint(\n",
        "    full_chain(\n",
        "        {\n",
        "            'company': company,\n",
        "            'product_description': product_description\n",
        "        },\n",
        "        return_only_outputs=True\n",
        "    )\n",
        ")"
      ],
      "metadata": {
        "colab": {
          "base_uri": "https://localhost:8080/"
        },
        "id": "vAvjw0nMyJlC",
        "outputId": "685d83a9-4651-4a46-8687-25d513d48a5b"
      },
      "execution_count": null,
      "outputs": [
        {
          "output_type": "stream",
          "name": "stdout",
          "text": [
            "{'product_name': 'Audio Mechanics M1000 Over-Ear Headphones',\n",
            " 'tag-line': '**Audio Mechanics M1000 Over-Ear Headphones: Sleek design, '\n",
            "             'powerful sound, and superior comfort.**'}\n"
          ]
        }
      ]
    },
    {
      "cell_type": "markdown",
      "source": [
        "## Multi-prompt and Router Chain"
      ],
      "metadata": {
        "id": "GhcyETLuzZNx"
      }
    },
    {
      "cell_type": "markdown",
      "source": [
        "### Create default chain"
      ],
      "metadata": {
        "id": "QFfg_1atLdUE"
      }
    },
    {
      "cell_type": "code",
      "source": [
        "default_template =  \"\"\"You are a copywriter that writes tag lines. What is a good tag line\n",
        "given the following info:\n",
        "{input}\"\"\"\n",
        "\n",
        "prompt = PromptTemplate(template=default_template, input_variables=[\"input\"])\n",
        "default_chain = LLMChain(llm=llm, prompt=prompt)"
      ],
      "metadata": {
        "id": "vMh8Ut_azmvb"
      },
      "execution_count": null,
      "outputs": []
    },
    {
      "cell_type": "markdown",
      "source": [
        "### Create audience based tag-line generator chains"
      ],
      "metadata": {
        "id": "5r7E7kVwLhUb"
      }
    },
    {
      "cell_type": "code",
      "source": [
        "teens_template = \"\"\"You are a copywriter that writes tag lines for customers in their teens. What is a good tag line\n",
        "given the following info:\n",
        "{input}\"\"\"\n",
        "\n",
        "middle_aged_template = \"\"\"You are a copywriter that writes tag line for customers in their late 30s. What is a good tag line\n",
        "given the following info:\n",
        "{input}\"\"\"\n",
        "\n",
        "prompt_infos = [\n",
        "    {\n",
        "        \"name\": \"teens\",\n",
        "        \"description\": \"Good for customers in their teens.\",\n",
        "        \"prompt_template\": teens_template,\n",
        "    },\n",
        "    {\n",
        "        \"name\": \"middle-aged\",\n",
        "        \"description\": \"Good for middle aged customers.\",\n",
        "        \"prompt_template\": middle_aged_template,\n",
        "    },\n",
        "]\n",
        "\n",
        "destination_chains = {}\n",
        "for p_info in prompt_infos:\n",
        "\n",
        "    name = p_info[\"name\"]\n",
        "    prompt_template = p_info[\"prompt_template\"]\n",
        "\n",
        "    prompt = PromptTemplate(template=prompt_template, input_variables=[\"input\"])\n",
        "    chain = LLMChain(llm=llm, prompt=prompt)\n",
        "\n",
        "    destination_chains[name] = chain"
      ],
      "metadata": {
        "id": "T3nV0k7k1YCu"
      },
      "execution_count": null,
      "outputs": []
    },
    {
      "cell_type": "markdown",
      "source": [
        "### Create router chain"
      ],
      "metadata": {
        "id": "IL01H1uhLprp"
      }
    },
    {
      "cell_type": "code",
      "source": [
        "from langchain.chains.router.llm_router import LLMRouterChain, RouterOutputParser\n",
        "\n",
        "destinations = [f\"{p['name']}: {p['description']}\" for p in prompt_infos]\n",
        "\n",
        "destinations_str = \"\\n\".join(destinations)\n",
        "\n",
        "router_template = f\"\"\"Given a raw text input to a language model select the model prompt best suited for the input. You will be given the names of the available prompts and a description of what the prompt is best suited for. You may also revise the original input if you think that revising it will ultimately lead to a better response from the language model.\n",
        "\n",
        "<< FORMATTING >>\n",
        "Return a markdown code snippet with a JSON object formatted to look like:\n",
        "```json\n",
        "{{{{\n",
        "    \"destination\": string \\ name of the prompt to use or \"DEFAULT\"\n",
        "    \"next_inputs\": {{{{\n",
        "        \"company\": string \\ name of the company from original input\n",
        "        \"product_name\": string \\ name of the product from original input\n",
        "        \"product_description\": string \\ description of the product from original input\n",
        "    }}}}\n",
        "}}}}\n",
        "```\n",
        "\n",
        "REMEMBER: \"destination\" MUST be one of the candidate prompt names specified below OR it can be \"DEFAULT\" if the input is not well suited for any of the candidate prompts.\n",
        "REMEMBER: \"next_inputs\" can just be the original input if you don't think any modifications are needed.\n",
        "\n",
        "<< CANDIDATE PROMPTS >>\n",
        "{destinations_str}\n",
        "\n",
        "<< INPUT >>\n",
        "company: {{company}}\n",
        "product_name: {{product_name}}\n",
        "product_description : {{product_description}}\n",
        "\n",
        "<< OUTPUT >>\"\"\"\n",
        "\n",
        "router_prompt = PromptTemplate(\n",
        "    template=router_template,\n",
        "    input_variables=[\"company\", \"product_description\", \"product_name\"],\n",
        "    output_parser=RouterOutputParser(next_inputs_type=dict),\n",
        ")\n",
        "\n",
        "router_chain = LLMRouterChain.from_llm(llm, router_prompt)"
      ],
      "metadata": {
        "id": "Ff-cauqG0H0m"
      },
      "execution_count": null,
      "outputs": []
    },
    {
      "cell_type": "markdown",
      "source": [
        "### Create multi-prompt chain"
      ],
      "metadata": {
        "id": "9YtTTmRuLyBE"
      }
    },
    {
      "cell_type": "code",
      "source": [
        "from langchain.chains.router import MultiPromptChain\n",
        "\n",
        "multi_prompt_chain = MultiPromptChain(\n",
        "    router_chain=router_chain,\n",
        "    destination_chains=destination_chains,\n",
        "    default_chain=default_chain,\n",
        ")"
      ],
      "metadata": {
        "id": "UNvX46qR0vqw"
      },
      "execution_count": null,
      "outputs": []
    },
    {
      "cell_type": "code",
      "source": [
        "print(\n",
        "    multi_prompt_chain.run({\n",
        "        'company': company,\n",
        "        'product_description': product_description,\n",
        "        'product_name': \"Audio Mechanics M1000 Over-Ear Headphones\"\n",
        "    })\n",
        ")"
      ],
      "metadata": {
        "colab": {
          "base_uri": "https://localhost:8080/"
        },
        "id": "6PDAi8SXSPfK",
        "outputId": "9be6e17b-d55e-4105-9294-5f702798bcbc"
      },
      "execution_count": null,
      "outputs": [
        {
          "output_type": "stream",
          "name": "stderr",
          "text": [
            "/usr/local/lib/python3.10/dist-packages/langchain/chains/llm.py:275: UserWarning: The predict_and_parse method is deprecated, instead pass an output parser directly to LLMChain.\n",
            "  warnings.warn(\n"
          ]
        },
        {
          "output_type": "stream",
          "name": "stdout",
          "text": [
            "**Audio Mechanics M1000 Over-Ear Headphones: Turn your world up to 11.**\n"
          ]
        }
      ]
    },
    {
      "cell_type": "markdown",
      "source": [
        "### Combine name generator and the multi-prompt tag-line generator"
      ],
      "metadata": {
        "id": "zCWqeeEnL13j"
      }
    },
    {
      "cell_type": "code",
      "source": [
        "from langchain.chains import SequentialChain\n",
        "\n",
        "full_chain = SequentialChain(\n",
        "    chains=[name_generator_chain, multi_prompt_chain],\n",
        "    input_variables=[\"company\", \"product_description\"],\n",
        ")"
      ],
      "metadata": {
        "id": "rCJTFiTh0VMz"
      },
      "execution_count": null,
      "outputs": []
    },
    {
      "cell_type": "markdown",
      "source": [
        "### Run"
      ],
      "metadata": {
        "id": "AHODwk6iMAkZ"
      }
    },
    {
      "cell_type": "code",
      "source": [
        "# Teens example.\n",
        "print(full_chain.run({\n",
        "    'company': company,\n",
        "    'product_description': product_description\n",
        "}))"
      ],
      "metadata": {
        "id": "BvM7_xaZMAAE"
      },
      "execution_count": null,
      "outputs": []
    },
    {
      "cell_type": "code",
      "source": [
        "# Teens example.\n",
        "langchain.debug=True\n",
        "print(full_chain.run({\n",
        "    'company': company,\n",
        "    'product_description': product_description\n",
        "}))\n",
        "langchain.debug=False"
      ],
      "metadata": {
        "colab": {
          "base_uri": "https://localhost:8080/"
        },
        "id": "o0NrU1lzKO-r",
        "outputId": "99307608-cad0-4939-b87d-40bdcbc64075"
      },
      "execution_count": null,
      "outputs": [
        {
          "output_type": "stream",
          "name": "stdout",
          "text": [
            "\u001b[32;1m\u001b[1;3m[chain/start]\u001b[0m \u001b[1m[1:chain:SequentialChain] Entering Chain run with input:\n",
            "\u001b[0m{\n",
            "  \"company\": \"Audio Mechanics\",\n",
            "  \"product_description\": \"The perfect headphones for young music lovers. \\nWith their sleek design and powerful sound, these headphones are sure to turn heads wherever you go. The over-ear design provides\\nsuperior comfort, even during extended listening sessions, while the noise-canceling technology blocks out distractions so you \\ncan focus on your music.\"\n",
            "}\n",
            "\u001b[32;1m\u001b[1;3m[chain/start]\u001b[0m \u001b[1m[1:chain:SequentialChain > 2:chain:LLMChain] Entering Chain run with input:\n",
            "\u001b[0m{\n",
            "  \"company\": \"Audio Mechanics\",\n",
            "  \"product_description\": \"The perfect headphones for young music lovers. \\nWith their sleek design and powerful sound, these headphones are sure to turn heads wherever you go. The over-ear design provides\\nsuperior comfort, even during extended listening sessions, while the noise-canceling technology blocks out distractions so you \\ncan focus on your music.\"\n",
            "}\n",
            "\u001b[32;1m\u001b[1;3m[llm/start]\u001b[0m \u001b[1m[1:chain:SequentialChain > 2:chain:LLMChain > 3:llm:GooglePalm] Entering LLM run with input:\n",
            "\u001b[0m{\n",
            "  \"prompts\": [\n",
            "    \"What is a good product name for a product with the description `The perfect headphones for young music lovers. \\nWith their sleek design and powerful sound, these headphones are sure to turn heads wherever you go. The over-ear design provides\\nsuperior comfort, even during extended listening sessions, while the noise-canceling technology blocks out distractions so you \\ncan focus on your music.` and made by the company Audio Mechanics?\"\n",
            "  ]\n",
            "}\n",
            "\u001b[36;1m\u001b[1;3m[llm/end]\u001b[0m \u001b[1m[1:chain:SequentialChain > 2:chain:LLMChain > 3:llm:GooglePalm] [301.197ms] Exiting LLM run with output:\n",
            "\u001b[0m{\n",
            "  \"generations\": [\n",
            "    [\n",
            "      {\n",
            "        \"text\": \"Audio Mechanics M1000 Over-Ear Headphones\",\n",
            "        \"generation_info\": null\n",
            "      }\n",
            "    ]\n",
            "  ],\n",
            "  \"llm_output\": null,\n",
            "  \"run\": null\n",
            "}\n",
            "\u001b[36;1m\u001b[1;3m[chain/end]\u001b[0m \u001b[1m[1:chain:SequentialChain > 2:chain:LLMChain] [303.56600000000003ms] Exiting Chain run with output:\n",
            "\u001b[0m{\n",
            "  \"product_name\": \"Audio Mechanics M1000 Over-Ear Headphones\"\n",
            "}\n",
            "\u001b[32;1m\u001b[1;3m[chain/start]\u001b[0m \u001b[1m[1:chain:SequentialChain > 4:chain:MultiPromptChain] Entering Chain run with input:\n",
            "\u001b[0m{\n",
            "  \"company\": \"Audio Mechanics\",\n",
            "  \"product_description\": \"The perfect headphones for young music lovers. \\nWith their sleek design and powerful sound, these headphones are sure to turn heads wherever you go. The over-ear design provides\\nsuperior comfort, even during extended listening sessions, while the noise-canceling technology blocks out distractions so you \\ncan focus on your music.\",\n",
            "  \"product_name\": \"Audio Mechanics M1000 Over-Ear Headphones\"\n",
            "}\n",
            "\u001b[32;1m\u001b[1;3m[chain/start]\u001b[0m \u001b[1m[1:chain:SequentialChain > 4:chain:MultiPromptChain > 5:chain:LLMRouterChain] Entering Chain run with input:\n",
            "\u001b[0m{\n",
            "  \"company\": \"Audio Mechanics\",\n",
            "  \"product_description\": \"The perfect headphones for young music lovers. \\nWith their sleek design and powerful sound, these headphones are sure to turn heads wherever you go. The over-ear design provides\\nsuperior comfort, even during extended listening sessions, while the noise-canceling technology blocks out distractions so you \\ncan focus on your music.\",\n",
            "  \"product_name\": \"Audio Mechanics M1000 Over-Ear Headphones\"\n",
            "}\n",
            "\u001b[32;1m\u001b[1;3m[chain/start]\u001b[0m \u001b[1m[1:chain:SequentialChain > 4:chain:MultiPromptChain > 5:chain:LLMRouterChain > 6:chain:LLMChain] Entering Chain run with input:\n",
            "\u001b[0m{\n",
            "  \"company\": \"Audio Mechanics\",\n",
            "  \"product_description\": \"The perfect headphones for young music lovers. \\nWith their sleek design and powerful sound, these headphones are sure to turn heads wherever you go. The over-ear design provides\\nsuperior comfort, even during extended listening sessions, while the noise-canceling technology blocks out distractions so you \\ncan focus on your music.\",\n",
            "  \"product_name\": \"Audio Mechanics M1000 Over-Ear Headphones\"\n",
            "}\n",
            "\u001b[32;1m\u001b[1;3m[llm/start]\u001b[0m \u001b[1m[1:chain:SequentialChain > 4:chain:MultiPromptChain > 5:chain:LLMRouterChain > 6:chain:LLMChain > 7:llm:GooglePalm] Entering LLM run with input:\n",
            "\u001b[0m{\n",
            "  \"prompts\": [\n",
            "    \"Given a raw text input to a language model select the model prompt best suited for the input. You will be given the names of the available prompts and a description of what the prompt is best suited for. You may also revise the original input if you think that revising it will ultimately lead to a better response from the language model.\\n\\n<< FORMATTING >>\\nReturn a markdown code snippet with a JSON object formatted to look like:\\n```json\\n{\\n    \\\"destination\\\": string \\\\ name of the prompt to use or \\\"DEFAULT\\\"\\n    \\\"next_inputs\\\": {\\n        \\\"company\\\": string \\\\ name of the company from original input\\n        \\\"product_name\\\": string \\\\ name of the product from original input\\n        \\\"product_description\\\": string \\\\ description of the product from original input\\n    }\\n}\\n```\\n\\nREMEMBER: \\\"destination\\\" MUST be one of the candidate prompt names specified below OR it can be \\\"DEFAULT\\\" if the input is not well suited for any of the candidate prompts.\\nREMEMBER: \\\"next_inputs\\\" can just be the original input if you don't think any modifications are needed.\\n\\n<< CANDIDATE PROMPTS >>\\nteens: Good for customers in their teens.\\nmiddle-aged: Good for middle aged customers.\\n\\n<< INPUT >>\\ncompany: Audio Mechanics\\nproduct_name: Audio Mechanics M1000 Over-Ear Headphones \\nproduct_description : The perfect headphones for young music lovers. \\nWith their sleek design and powerful sound, these headphones are sure to turn heads wherever you go. The over-ear design provides\\nsuperior comfort, even during extended listening sessions, while the noise-canceling technology blocks out distractions so you \\ncan focus on your music.\\n\\n<< OUTPUT >>\"\n",
            "  ]\n",
            "}\n",
            "\u001b[36;1m\u001b[1;3m[llm/end]\u001b[0m \u001b[1m[1:chain:SequentialChain > 4:chain:MultiPromptChain > 5:chain:LLMRouterChain > 6:chain:LLMChain > 7:llm:GooglePalm] [1.57s] Exiting LLM run with output:\n",
            "\u001b[0m{\n",
            "  \"generations\": [\n",
            "    [\n",
            "      {\n",
            "        \"text\": \"{\\n    \\\"destination\\\": \\\"teens\\\",\\n    \\\"next_inputs\\\": {\\n        \\\"company\\\": \\\"Audio Mechanics\\\",\\n        \\\"product_name\\\": \\\"Audio Mechanics M1000 Over-Ear Headphones\\\",\\n        \\\"product_description\\\": \\\"The perfect headphones for young music lovers. With their sleek design and powerful sound, these headphones are sure to turn heads wherever you go. The over-ear design provides superior comfort, even during extended listening sessions, while the noise-canceling technology blocks out distractions so you can focus on your music.\\\"\\n    }\\n}\",\n",
            "        \"generation_info\": null\n",
            "      }\n",
            "    ]\n",
            "  ],\n",
            "  \"llm_output\": null,\n",
            "  \"run\": null\n",
            "}\n",
            "\u001b[36;1m\u001b[1;3m[chain/end]\u001b[0m \u001b[1m[1:chain:SequentialChain > 4:chain:MultiPromptChain > 5:chain:LLMRouterChain > 6:chain:LLMChain] [1.57s] Exiting Chain run with output:\n",
            "\u001b[0m{\n",
            "  \"text\": \"{\\n    \\\"destination\\\": \\\"teens\\\",\\n    \\\"next_inputs\\\": {\\n        \\\"company\\\": \\\"Audio Mechanics\\\",\\n        \\\"product_name\\\": \\\"Audio Mechanics M1000 Over-Ear Headphones\\\",\\n        \\\"product_description\\\": \\\"The perfect headphones for young music lovers. With their sleek design and powerful sound, these headphones are sure to turn heads wherever you go. The over-ear design provides superior comfort, even during extended listening sessions, while the noise-canceling technology blocks out distractions so you can focus on your music.\\\"\\n    }\\n}\"\n",
            "}\n",
            "\u001b[36;1m\u001b[1;3m[chain/end]\u001b[0m \u001b[1m[1:chain:SequentialChain > 4:chain:MultiPromptChain > 5:chain:LLMRouterChain] [1.57s] Exiting Chain run with output:\n",
            "\u001b[0m{\n",
            "  \"destination\": \"teens\",\n",
            "  \"next_inputs\": {\n",
            "    \"input\": {\n",
            "      \"company\": \"Audio Mechanics\",\n",
            "      \"product_name\": \"Audio Mechanics M1000 Over-Ear Headphones\",\n",
            "      \"product_description\": \"The perfect headphones for young music lovers. With their sleek design and powerful sound, these headphones are sure to turn heads wherever you go. The over-ear design provides superior comfort, even during extended listening sessions, while the noise-canceling technology blocks out distractions so you can focus on your music.\"\n",
            "    }\n",
            "  }\n",
            "}\n",
            "\u001b[32;1m\u001b[1;3m[chain/start]\u001b[0m \u001b[1m[1:chain:SequentialChain > 4:chain:MultiPromptChain > 8:chain:LLMChain] Entering Chain run with input:\n",
            "\u001b[0m{\n",
            "  \"input\": {\n",
            "    \"company\": \"Audio Mechanics\",\n",
            "    \"product_name\": \"Audio Mechanics M1000 Over-Ear Headphones\",\n",
            "    \"product_description\": \"The perfect headphones for young music lovers. With their sleek design and powerful sound, these headphones are sure to turn heads wherever you go. The over-ear design provides superior comfort, even during extended listening sessions, while the noise-canceling technology blocks out distractions so you can focus on your music.\"\n",
            "  }\n",
            "}\n",
            "\u001b[32;1m\u001b[1;3m[llm/start]\u001b[0m \u001b[1m[1:chain:SequentialChain > 4:chain:MultiPromptChain > 8:chain:LLMChain > 9:llm:GooglePalm] Entering LLM run with input:\n",
            "\u001b[0m{\n",
            "  \"prompts\": [\n",
            "    \"You are a copywriter that writes tag lines for customers in their teens. What is a good tag line\\ngiven the following info:\\n{'company': 'Audio Mechanics', 'product_name': 'Audio Mechanics M1000 Over-Ear Headphones', 'product_description': 'The perfect headphones for young music lovers. With their sleek design and powerful sound, these headphones are sure to turn heads wherever you go. The over-ear design provides superior comfort, even during extended listening sessions, while the noise-canceling technology blocks out distractions so you can focus on your music.'}\"\n",
            "  ]\n",
            "}\n",
            "\u001b[36;1m\u001b[1;3m[llm/end]\u001b[0m \u001b[1m[1:chain:SequentialChain > 4:chain:MultiPromptChain > 8:chain:LLMChain > 9:llm:GooglePalm] [376.909ms] Exiting LLM run with output:\n",
            "\u001b[0m{\n",
            "  \"generations\": [\n",
            "    [\n",
            "      {\n",
            "        \"text\": \"**Audio Mechanics M1000 Over-Ear Headphones: Turn your world up to 11.**\",\n",
            "        \"generation_info\": null\n",
            "      }\n",
            "    ]\n",
            "  ],\n",
            "  \"llm_output\": null,\n",
            "  \"run\": null\n",
            "}\n",
            "\u001b[36;1m\u001b[1;3m[chain/end]\u001b[0m \u001b[1m[1:chain:SequentialChain > 4:chain:MultiPromptChain > 8:chain:LLMChain] [378.859ms] Exiting Chain run with output:\n",
            "\u001b[0m{\n",
            "  \"text\": \"**Audio Mechanics M1000 Over-Ear Headphones: Turn your world up to 11.**\"\n",
            "}\n",
            "\u001b[36;1m\u001b[1;3m[chain/end]\u001b[0m \u001b[1m[1:chain:SequentialChain > 4:chain:MultiPromptChain] [1.95s] Exiting Chain run with output:\n",
            "\u001b[0m{\n",
            "  \"input\": {\n",
            "    \"company\": \"Audio Mechanics\",\n",
            "    \"product_name\": \"Audio Mechanics M1000 Over-Ear Headphones\",\n",
            "    \"product_description\": \"The perfect headphones for young music lovers. With their sleek design and powerful sound, these headphones are sure to turn heads wherever you go. The over-ear design provides superior comfort, even during extended listening sessions, while the noise-canceling technology blocks out distractions so you can focus on your music.\"\n",
            "  },\n",
            "  \"text\": \"**Audio Mechanics M1000 Over-Ear Headphones: Turn your world up to 11.**\"\n",
            "}\n",
            "\u001b[36;1m\u001b[1;3m[chain/end]\u001b[0m \u001b[1m[1:chain:SequentialChain] [2.26s] Exiting Chain run with output:\n",
            "\u001b[0m{\n",
            "  \"text\": \"**Audio Mechanics M1000 Over-Ear Headphones: Turn your world up to 11.**\"\n",
            "}\n",
            "**Audio Mechanics M1000 Over-Ear Headphones: Turn your world up to 11.**\n"
          ]
        }
      ]
    },
    {
      "cell_type": "code",
      "source": [
        "# Middle-aged example.\n",
        "langchain.debug=True\n",
        "print(full_chain.run({\n",
        "    'company': \"AntiAge\",\n",
        "    'product_description': \"\"\"A luxurious anti-aging cream that reduces the appearance of wrinkles and fine lines, leaving skin looking youthful and radiant.\"\"\"\n",
        "}))\n",
        "langchain.debug=False"
      ],
      "metadata": {
        "colab": {
          "base_uri": "https://localhost:8080/"
        },
        "id": "a8H3E-ah_hYP",
        "outputId": "60e7b74d-b077-47a9-8442-59e962c75b63"
      },
      "execution_count": null,
      "outputs": [
        {
          "output_type": "stream",
          "name": "stdout",
          "text": [
            "\u001b[32;1m\u001b[1;3m[chain/start]\u001b[0m \u001b[1m[1:chain:SequentialChain] Entering Chain run with input:\n",
            "\u001b[0m{\n",
            "  \"company\": \"AntiAge\",\n",
            "  \"product_description\": \"A luxurious anti-aging cream that reduces the appearance of wrinkles and fine lines, leaving skin looking youthful and radiant.\"\n",
            "}\n",
            "\u001b[32;1m\u001b[1;3m[chain/start]\u001b[0m \u001b[1m[1:chain:SequentialChain > 2:chain:LLMChain] Entering Chain run with input:\n",
            "\u001b[0m{\n",
            "  \"company\": \"AntiAge\",\n",
            "  \"product_description\": \"A luxurious anti-aging cream that reduces the appearance of wrinkles and fine lines, leaving skin looking youthful and radiant.\"\n",
            "}\n",
            "\u001b[32;1m\u001b[1;3m[llm/start]\u001b[0m \u001b[1m[1:chain:SequentialChain > 2:chain:LLMChain > 3:llm:GooglePalm] Entering LLM run with input:\n",
            "\u001b[0m{\n",
            "  \"prompts\": [\n",
            "    \"What is a good product name for a product with the description `A luxurious anti-aging cream that reduces the appearance of wrinkles and fine lines, leaving skin looking youthful and radiant.` and made by the company AntiAge?\"\n",
            "  ]\n",
            "}\n",
            "\u001b[36;1m\u001b[1;3m[llm/end]\u001b[0m \u001b[1m[1:chain:SequentialChain > 2:chain:LLMChain > 3:llm:GooglePalm] [335.462ms] Exiting LLM run with output:\n",
            "\u001b[0m{\n",
            "  \"generations\": [\n",
            "    [\n",
            "      {\n",
            "        \"text\": \"**AntiAge Youthful Radiance Cream**\",\n",
            "        \"generation_info\": null\n",
            "      }\n",
            "    ]\n",
            "  ],\n",
            "  \"llm_output\": null,\n",
            "  \"run\": null\n",
            "}\n",
            "\u001b[36;1m\u001b[1;3m[chain/end]\u001b[0m \u001b[1m[1:chain:SequentialChain > 2:chain:LLMChain] [337.99899999999997ms] Exiting Chain run with output:\n",
            "\u001b[0m{\n",
            "  \"product_name\": \"**AntiAge Youthful Radiance Cream**\"\n",
            "}\n",
            "\u001b[32;1m\u001b[1;3m[chain/start]\u001b[0m \u001b[1m[1:chain:SequentialChain > 4:chain:MultiPromptChain] Entering Chain run with input:\n",
            "\u001b[0m{\n",
            "  \"company\": \"AntiAge\",\n",
            "  \"product_description\": \"A luxurious anti-aging cream that reduces the appearance of wrinkles and fine lines, leaving skin looking youthful and radiant.\",\n",
            "  \"product_name\": \"**AntiAge Youthful Radiance Cream**\"\n",
            "}\n",
            "\u001b[32;1m\u001b[1;3m[chain/start]\u001b[0m \u001b[1m[1:chain:SequentialChain > 4:chain:MultiPromptChain > 5:chain:LLMRouterChain] Entering Chain run with input:\n",
            "\u001b[0m{\n",
            "  \"company\": \"AntiAge\",\n",
            "  \"product_description\": \"A luxurious anti-aging cream that reduces the appearance of wrinkles and fine lines, leaving skin looking youthful and radiant.\",\n",
            "  \"product_name\": \"**AntiAge Youthful Radiance Cream**\"\n",
            "}\n",
            "\u001b[32;1m\u001b[1;3m[chain/start]\u001b[0m \u001b[1m[1:chain:SequentialChain > 4:chain:MultiPromptChain > 5:chain:LLMRouterChain > 6:chain:LLMChain] Entering Chain run with input:\n",
            "\u001b[0m{\n",
            "  \"company\": \"AntiAge\",\n",
            "  \"product_description\": \"A luxurious anti-aging cream that reduces the appearance of wrinkles and fine lines, leaving skin looking youthful and radiant.\",\n",
            "  \"product_name\": \"**AntiAge Youthful Radiance Cream**\"\n",
            "}\n",
            "\u001b[32;1m\u001b[1;3m[llm/start]\u001b[0m \u001b[1m[1:chain:SequentialChain > 4:chain:MultiPromptChain > 5:chain:LLMRouterChain > 6:chain:LLMChain > 7:llm:GooglePalm] Entering LLM run with input:\n",
            "\u001b[0m{\n",
            "  \"prompts\": [\n",
            "    \"Given a raw text input to a language model select the model prompt best suited for the input. You will be given the names of the available prompts and a description of what the prompt is best suited for. You may also revise the original input if you think that revising it will ultimately lead to a better response from the language model.\\n\\n<< FORMATTING >>\\nReturn a markdown code snippet with a JSON object formatted to look like:\\n```json\\n{\\n    \\\"destination\\\": string \\\\ name of the prompt to use or \\\"DEFAULT\\\"\\n    \\\"next_inputs\\\": {\\n        \\\"company\\\": string \\\\ name of the company from original input\\n        \\\"product_name\\\": string \\\\ name of the product from original input\\n        \\\"product_description\\\": string \\\\ description of the product from original input\\n    }\\n}\\n```\\n\\nREMEMBER: \\\"destination\\\" MUST be one of the candidate prompt names specified below OR it can be \\\"DEFAULT\\\" if the input is not well suited for any of the candidate prompts.\\nREMEMBER: \\\"next_inputs\\\" can just be the original input if you don't think any modifications are needed.\\n\\n<< CANDIDATE PROMPTS >>\\nteens: Good for customers in their teens.\\nmiddle-aged: Good for middle aged customers.\\n\\n<< INPUT >>\\ncompany: AntiAge\\nproduct_name: **AntiAge Youthful Radiance Cream** \\nproduct_description : A luxurious anti-aging cream that reduces the appearance of wrinkles and fine lines, leaving skin looking youthful and radiant.\\n\\n<< OUTPUT >>\"\n",
            "  ]\n",
            "}\n",
            "\u001b[36;1m\u001b[1;3m[llm/end]\u001b[0m \u001b[1m[1:chain:SequentialChain > 4:chain:MultiPromptChain > 5:chain:LLMRouterChain > 6:chain:LLMChain > 7:llm:GooglePalm] [1.71s] Exiting LLM run with output:\n",
            "\u001b[0m{\n",
            "  \"generations\": [\n",
            "    [\n",
            "      {\n",
            "        \"text\": \"```json\\n{\\n    \\\"destination\\\": \\\"middle-aged\\\",\\n    \\\"next_inputs\\\": {\\n        \\\"company\\\": \\\"AntiAge\\\",\\n        \\\"product_name\\\": \\\"AntiAge Youthful Radiance Cream\\\",\\n        \\\"product_description\\\": \\\"A luxurious anti-aging cream that reduces the appearance of wrinkles and fine lines, leaving skin looking youthful and radiant.\\\"\\n    }\\n}\\n```\",\n",
            "        \"generation_info\": null\n",
            "      }\n",
            "    ]\n",
            "  ],\n",
            "  \"llm_output\": null,\n",
            "  \"run\": null\n",
            "}\n",
            "\u001b[36;1m\u001b[1;3m[chain/end]\u001b[0m \u001b[1m[1:chain:SequentialChain > 4:chain:MultiPromptChain > 5:chain:LLMRouterChain > 6:chain:LLMChain] [1.72s] Exiting Chain run with output:\n",
            "\u001b[0m{\n",
            "  \"text\": \"```json\\n{\\n    \\\"destination\\\": \\\"middle-aged\\\",\\n    \\\"next_inputs\\\": {\\n        \\\"company\\\": \\\"AntiAge\\\",\\n        \\\"product_name\\\": \\\"AntiAge Youthful Radiance Cream\\\",\\n        \\\"product_description\\\": \\\"A luxurious anti-aging cream that reduces the appearance of wrinkles and fine lines, leaving skin looking youthful and radiant.\\\"\\n    }\\n}\\n```\"\n",
            "}\n",
            "\u001b[36;1m\u001b[1;3m[chain/end]\u001b[0m \u001b[1m[1:chain:SequentialChain > 4:chain:MultiPromptChain > 5:chain:LLMRouterChain] [1.72s] Exiting Chain run with output:\n",
            "\u001b[0m{\n",
            "  \"destination\": \"middle-aged\",\n",
            "  \"next_inputs\": {\n",
            "    \"input\": {\n",
            "      \"company\": \"AntiAge\",\n",
            "      \"product_name\": \"AntiAge Youthful Radiance Cream\",\n",
            "      \"product_description\": \"A luxurious anti-aging cream that reduces the appearance of wrinkles and fine lines, leaving skin looking youthful and radiant.\"\n",
            "    }\n",
            "  }\n",
            "}\n",
            "\u001b[32;1m\u001b[1;3m[chain/start]\u001b[0m \u001b[1m[1:chain:SequentialChain > 4:chain:MultiPromptChain > 8:chain:LLMChain] Entering Chain run with input:\n",
            "\u001b[0m{\n",
            "  \"input\": {\n",
            "    \"company\": \"AntiAge\",\n",
            "    \"product_name\": \"AntiAge Youthful Radiance Cream\",\n",
            "    \"product_description\": \"A luxurious anti-aging cream that reduces the appearance of wrinkles and fine lines, leaving skin looking youthful and radiant.\"\n",
            "  }\n",
            "}\n",
            "\u001b[32;1m\u001b[1;3m[llm/start]\u001b[0m \u001b[1m[1:chain:SequentialChain > 4:chain:MultiPromptChain > 8:chain:LLMChain > 9:llm:GooglePalm] Entering LLM run with input:\n",
            "\u001b[0m{\n",
            "  \"prompts\": [\n",
            "    \"You are a copywriter that writes tag line for customers in their late 30s. What is a good tag line\\ngiven the following info:\\n{'company': 'AntiAge', 'product_name': 'AntiAge Youthful Radiance Cream', 'product_description': 'A luxurious anti-aging cream that reduces the appearance of wrinkles and fine lines, leaving skin looking youthful and radiant.'}\"\n",
            "  ]\n",
            "}\n",
            "\u001b[36;1m\u001b[1;3m[llm/end]\u001b[0m \u001b[1m[1:chain:SequentialChain > 4:chain:MultiPromptChain > 8:chain:LLMChain > 9:llm:GooglePalm] [426.999ms] Exiting LLM run with output:\n",
            "\u001b[0m{\n",
            "  \"generations\": [\n",
            "    [\n",
            "      {\n",
            "        \"text\": \"**AntiAge Youthful Radiance Cream: Reverse the signs of aging and reveal your youthful glow.**\",\n",
            "        \"generation_info\": null\n",
            "      }\n",
            "    ]\n",
            "  ],\n",
            "  \"llm_output\": null,\n",
            "  \"run\": null\n",
            "}\n",
            "\u001b[36;1m\u001b[1;3m[chain/end]\u001b[0m \u001b[1m[1:chain:SequentialChain > 4:chain:MultiPromptChain > 8:chain:LLMChain] [428.213ms] Exiting Chain run with output:\n",
            "\u001b[0m{\n",
            "  \"text\": \"**AntiAge Youthful Radiance Cream: Reverse the signs of aging and reveal your youthful glow.**\"\n",
            "}\n",
            "\u001b[36;1m\u001b[1;3m[chain/end]\u001b[0m \u001b[1m[1:chain:SequentialChain > 4:chain:MultiPromptChain] [2.15s] Exiting Chain run with output:\n",
            "\u001b[0m{\n",
            "  \"input\": {\n",
            "    \"company\": \"AntiAge\",\n",
            "    \"product_name\": \"AntiAge Youthful Radiance Cream\",\n",
            "    \"product_description\": \"A luxurious anti-aging cream that reduces the appearance of wrinkles and fine lines, leaving skin looking youthful and radiant.\"\n",
            "  },\n",
            "  \"text\": \"**AntiAge Youthful Radiance Cream: Reverse the signs of aging and reveal your youthful glow.**\"\n",
            "}\n",
            "\u001b[36;1m\u001b[1;3m[chain/end]\u001b[0m \u001b[1m[1:chain:SequentialChain] [2.49s] Exiting Chain run with output:\n",
            "\u001b[0m{\n",
            "  \"text\": \"**AntiAge Youthful Radiance Cream: Reverse the signs of aging and reveal your youthful glow.**\"\n",
            "}\n",
            "**AntiAge Youthful Radiance Cream: Reverse the signs of aging and reveal your youthful glow.**\n"
          ]
        }
      ]
    },
    {
      "cell_type": "code",
      "source": [
        "# Default example.\n",
        "langchain.debug=True\n",
        "print(full_chain.run({\n",
        "    'company': \"TravelComfort\",\n",
        "    'product_description': \"\"\"A portable luggage scale that is perfect for frequent work travels. It is lightweight and compact, making\n",
        "it easy to take with you on your next trip. The scale has a large LCD display that makes it easy to read, even in bright conditions.\"\"\"\n",
        "}))\n",
        "langchain.debug=True"
      ],
      "metadata": {
        "colab": {
          "base_uri": "https://localhost:8080/"
        },
        "id": "VqP_8ren021p",
        "outputId": "e54f5e64-4e95-4e9c-c918-0cf52e220afa"
      },
      "execution_count": null,
      "outputs": [
        {
          "output_type": "stream",
          "name": "stdout",
          "text": [
            "\u001b[32;1m\u001b[1;3m[chain/start]\u001b[0m \u001b[1m[1:chain:SequentialChain] Entering Chain run with input:\n",
            "\u001b[0m{\n",
            "  \"company\": \"TravelComfort\",\n",
            "  \"product_description\": \"A portable luggage scale that is perfect for frequent work travels. It is lightweight and compact, making \\nit easy to take with you on your next trip. The scale has a large LCD display that makes it easy to read, even in bright conditions.\"\n",
            "}\n",
            "\u001b[32;1m\u001b[1;3m[chain/start]\u001b[0m \u001b[1m[1:chain:SequentialChain > 2:chain:LLMChain] Entering Chain run with input:\n",
            "\u001b[0m{\n",
            "  \"company\": \"TravelComfort\",\n",
            "  \"product_description\": \"A portable luggage scale that is perfect for frequent work travels. It is lightweight and compact, making \\nit easy to take with you on your next trip. The scale has a large LCD display that makes it easy to read, even in bright conditions.\"\n",
            "}\n",
            "\u001b[32;1m\u001b[1;3m[llm/start]\u001b[0m \u001b[1m[1:chain:SequentialChain > 2:chain:LLMChain > 3:llm:GooglePalm] Entering LLM run with input:\n",
            "\u001b[0m{\n",
            "  \"prompts\": [\n",
            "    \"What is a good product name for a product with the description `A portable luggage scale that is perfect for frequent work travels. It is lightweight and compact, making \\nit easy to take with you on your next trip. The scale has a large LCD display that makes it easy to read, even in bright conditions.` and made by the company TravelComfort?\"\n",
            "  ]\n",
            "}\n",
            "\u001b[36;1m\u001b[1;3m[llm/end]\u001b[0m \u001b[1m[1:chain:SequentialChain > 2:chain:LLMChain > 3:llm:GooglePalm] [626.726ms] Exiting LLM run with output:\n",
            "\u001b[0m{\n",
            "  \"generations\": [\n",
            "    [\n",
            "      {\n",
            "        \"text\": \"TravelComfort Luggage Scale\",\n",
            "        \"generation_info\": null\n",
            "      }\n",
            "    ]\n",
            "  ],\n",
            "  \"llm_output\": null,\n",
            "  \"run\": null\n",
            "}\n",
            "\u001b[36;1m\u001b[1;3m[chain/end]\u001b[0m \u001b[1m[1:chain:SequentialChain > 2:chain:LLMChain] [630.326ms] Exiting Chain run with output:\n",
            "\u001b[0m{\n",
            "  \"product_name\": \"TravelComfort Luggage Scale\"\n",
            "}\n",
            "\u001b[32;1m\u001b[1;3m[chain/start]\u001b[0m \u001b[1m[1:chain:SequentialChain > 4:chain:MultiPromptChain] Entering Chain run with input:\n",
            "\u001b[0m{\n",
            "  \"company\": \"TravelComfort\",\n",
            "  \"product_description\": \"A portable luggage scale that is perfect for frequent work travels. It is lightweight and compact, making \\nit easy to take with you on your next trip. The scale has a large LCD display that makes it easy to read, even in bright conditions.\",\n",
            "  \"product_name\": \"TravelComfort Luggage Scale\"\n",
            "}\n",
            "\u001b[32;1m\u001b[1;3m[chain/start]\u001b[0m \u001b[1m[1:chain:SequentialChain > 4:chain:MultiPromptChain > 5:chain:LLMRouterChain] Entering Chain run with input:\n",
            "\u001b[0m{\n",
            "  \"company\": \"TravelComfort\",\n",
            "  \"product_description\": \"A portable luggage scale that is perfect for frequent work travels. It is lightweight and compact, making \\nit easy to take with you on your next trip. The scale has a large LCD display that makes it easy to read, even in bright conditions.\",\n",
            "  \"product_name\": \"TravelComfort Luggage Scale\"\n",
            "}\n",
            "\u001b[32;1m\u001b[1;3m[chain/start]\u001b[0m \u001b[1m[1:chain:SequentialChain > 4:chain:MultiPromptChain > 5:chain:LLMRouterChain > 6:chain:LLMChain] Entering Chain run with input:\n",
            "\u001b[0m{\n",
            "  \"company\": \"TravelComfort\",\n",
            "  \"product_description\": \"A portable luggage scale that is perfect for frequent work travels. It is lightweight and compact, making \\nit easy to take with you on your next trip. The scale has a large LCD display that makes it easy to read, even in bright conditions.\",\n",
            "  \"product_name\": \"TravelComfort Luggage Scale\"\n",
            "}\n",
            "\u001b[32;1m\u001b[1;3m[llm/start]\u001b[0m \u001b[1m[1:chain:SequentialChain > 4:chain:MultiPromptChain > 5:chain:LLMRouterChain > 6:chain:LLMChain > 7:llm:GooglePalm] Entering LLM run with input:\n",
            "\u001b[0m{\n",
            "  \"prompts\": [\n",
            "    \"Given a raw text input to a language model select the model prompt best suited for the input. You will be given the names of the available prompts and a description of what the prompt is best suited for. You may also revise the original input if you think that revising it will ultimately lead to a better response from the language model.\\n\\n<< FORMATTING >>\\nReturn a markdown code snippet with a JSON object formatted to look like:\\n```json\\n{\\n    \\\"destination\\\": string \\\\ name of the prompt to use or \\\"DEFAULT\\\"\\n    \\\"next_inputs\\\": {\\n        \\\"company\\\": string \\\\ name of the company from original input\\n        \\\"product_name\\\": string \\\\ name of the product from original input\\n        \\\"product_description\\\": string \\\\ description of the product from original input\\n    }\\n}\\n```\\n\\nREMEMBER: \\\"destination\\\" MUST be one of the candidate prompt names specified below OR it can be \\\"DEFAULT\\\" if the input is not well suited for any of the candidate prompts.\\nREMEMBER: \\\"next_inputs\\\" can just be the original input if you don't think any modifications are needed.\\n\\n<< CANDIDATE PROMPTS >>\\nteens: Good for customers in their teens.\\nmiddle-aged: Good for middle aged customers.\\n\\n<< INPUT >>\\ncompany: TravelComfort\\nproduct_name: TravelComfort Luggage Scale \\nproduct_description : A portable luggage scale that is perfect for frequent work travels. It is lightweight and compact, making \\nit easy to take with you on your next trip. The scale has a large LCD display that makes it easy to read, even in bright conditions.\\n\\n<< OUTPUT >>\"\n",
            "  ]\n",
            "}\n",
            "\u001b[36;1m\u001b[1;3m[llm/end]\u001b[0m \u001b[1m[1:chain:SequentialChain > 4:chain:MultiPromptChain > 5:chain:LLMRouterChain > 6:chain:LLMChain > 7:llm:GooglePalm] [1.17s] Exiting LLM run with output:\n",
            "\u001b[0m{\n",
            "  \"generations\": [\n",
            "    [\n",
            "      {\n",
            "        \"text\": \"{\\n    \\\"destination\\\": \\\"DEFAULT\\\",\\n    \\\"next_inputs\\\": {\\n        \\\"company\\\": \\\"TravelComfort\\\",\\n        \\\"product_name\\\": \\\"TravelComfort Luggage Scale\\\",\\n        \\\"product_description\\\": \\\"A portable luggage scale that is perfect for frequent work travels. It is lightweight and compact, making it easy to take with you on your next trip. The scale has a large LCD display that makes it easy to read, even in bright conditions.\\\"\\n    }\\n}\",\n",
            "        \"generation_info\": null\n",
            "      }\n",
            "    ]\n",
            "  ],\n",
            "  \"llm_output\": null,\n",
            "  \"run\": null\n",
            "}\n",
            "\u001b[36;1m\u001b[1;3m[chain/end]\u001b[0m \u001b[1m[1:chain:SequentialChain > 4:chain:MultiPromptChain > 5:chain:LLMRouterChain > 6:chain:LLMChain] [1.17s] Exiting Chain run with output:\n",
            "\u001b[0m{\n",
            "  \"text\": \"{\\n    \\\"destination\\\": \\\"DEFAULT\\\",\\n    \\\"next_inputs\\\": {\\n        \\\"company\\\": \\\"TravelComfort\\\",\\n        \\\"product_name\\\": \\\"TravelComfort Luggage Scale\\\",\\n        \\\"product_description\\\": \\\"A portable luggage scale that is perfect for frequent work travels. It is lightweight and compact, making it easy to take with you on your next trip. The scale has a large LCD display that makes it easy to read, even in bright conditions.\\\"\\n    }\\n}\"\n",
            "}\n",
            "\u001b[36;1m\u001b[1;3m[chain/end]\u001b[0m \u001b[1m[1:chain:SequentialChain > 4:chain:MultiPromptChain > 5:chain:LLMRouterChain] [1.17s] Exiting Chain run with output:\n",
            "\u001b[0m{\n",
            "  \"destination\": null,\n",
            "  \"next_inputs\": {\n",
            "    \"input\": {\n",
            "      \"company\": \"TravelComfort\",\n",
            "      \"product_name\": \"TravelComfort Luggage Scale\",\n",
            "      \"product_description\": \"A portable luggage scale that is perfect for frequent work travels. It is lightweight and compact, making it easy to take with you on your next trip. The scale has a large LCD display that makes it easy to read, even in bright conditions.\"\n",
            "    }\n",
            "  }\n",
            "}\n",
            "\u001b[32;1m\u001b[1;3m[chain/start]\u001b[0m \u001b[1m[1:chain:SequentialChain > 4:chain:MultiPromptChain > 8:chain:LLMChain] Entering Chain run with input:\n",
            "\u001b[0m{\n",
            "  \"input\": {\n",
            "    \"company\": \"TravelComfort\",\n",
            "    \"product_name\": \"TravelComfort Luggage Scale\",\n",
            "    \"product_description\": \"A portable luggage scale that is perfect for frequent work travels. It is lightweight and compact, making it easy to take with you on your next trip. The scale has a large LCD display that makes it easy to read, even in bright conditions.\"\n",
            "  }\n",
            "}\n",
            "\u001b[32;1m\u001b[1;3m[llm/start]\u001b[0m \u001b[1m[1:chain:SequentialChain > 4:chain:MultiPromptChain > 8:chain:LLMChain > 9:llm:GooglePalm] Entering LLM run with input:\n",
            "\u001b[0m{\n",
            "  \"prompts\": [\n",
            "    \"You are a copywriter that writes tag lines. What is a good tag line\\ngiven the following info:\\n{'company': 'TravelComfort', 'product_name': 'TravelComfort Luggage Scale', 'product_description': 'A portable luggage scale that is perfect for frequent work travels. It is lightweight and compact, making it easy to take with you on your next trip. The scale has a large LCD display that makes it easy to read, even in bright conditions.'}\"\n",
            "  ]\n",
            "}\n",
            "\u001b[36;1m\u001b[1;3m[llm/end]\u001b[0m \u001b[1m[1:chain:SequentialChain > 4:chain:MultiPromptChain > 8:chain:LLMChain > 9:llm:GooglePalm] [340.463ms] Exiting LLM run with output:\n",
            "\u001b[0m{\n",
            "  \"generations\": [\n",
            "    [\n",
            "      {\n",
            "        \"text\": \"**TravelComfort Luggage Scale: The perfect way to keep your luggage weight under control.**\",\n",
            "        \"generation_info\": null\n",
            "      }\n",
            "    ]\n",
            "  ],\n",
            "  \"llm_output\": null,\n",
            "  \"run\": null\n",
            "}\n",
            "\u001b[36;1m\u001b[1;3m[chain/end]\u001b[0m \u001b[1m[1:chain:SequentialChain > 4:chain:MultiPromptChain > 8:chain:LLMChain] [342.126ms] Exiting Chain run with output:\n",
            "\u001b[0m{\n",
            "  \"text\": \"**TravelComfort Luggage Scale: The perfect way to keep your luggage weight under control.**\"\n",
            "}\n",
            "\u001b[36;1m\u001b[1;3m[chain/end]\u001b[0m \u001b[1m[1:chain:SequentialChain > 4:chain:MultiPromptChain] [1.51s] Exiting Chain run with output:\n",
            "\u001b[0m{\n",
            "  \"input\": {\n",
            "    \"company\": \"TravelComfort\",\n",
            "    \"product_name\": \"TravelComfort Luggage Scale\",\n",
            "    \"product_description\": \"A portable luggage scale that is perfect for frequent work travels. It is lightweight and compact, making it easy to take with you on your next trip. The scale has a large LCD display that makes it easy to read, even in bright conditions.\"\n",
            "  },\n",
            "  \"text\": \"**TravelComfort Luggage Scale: The perfect way to keep your luggage weight under control.**\"\n",
            "}\n",
            "\u001b[36;1m\u001b[1;3m[chain/end]\u001b[0m \u001b[1m[1:chain:SequentialChain] [2.15s] Exiting Chain run with output:\n",
            "\u001b[0m{\n",
            "  \"text\": \"**TravelComfort Luggage Scale: The perfect way to keep your luggage weight under control.**\"\n",
            "}\n",
            "**TravelComfort Luggage Scale: The perfect way to keep your luggage weight under control.**\n"
          ]
        }
      ]
    },
    {
      "cell_type": "markdown",
      "metadata": {
        "id": "ykFPC116cQuH"
      },
      "source": [
        "# Agents"
      ]
    },
    {
      "cell_type": "code",
      "source": [
        "# Generate yours @ https://serpapi.com/\n",
        "with open('/content/drive/My Drive/LangChain course/serp_key.txt', 'r') as f:\n",
        "  serp_api_key = f.readlines()[0].strip('\\n')\n",
        "\n",
        "os.environ[\"SERPAPI_API_KEY\"] = serp_api_key"
      ],
      "metadata": {
        "id": "8eBTDB-6II_J"
      },
      "execution_count": 29,
      "outputs": []
    },
    {
      "cell_type": "code",
      "execution_count": 31,
      "metadata": {
        "colab": {
          "base_uri": "https://localhost:8080/",
          "height": 226
        },
        "id": "zI9OHx7p_s0U",
        "outputId": "9adcbbab-e81a-41d0-abfd-4a28d758de74"
      },
      "outputs": [
        {
          "output_type": "stream",
          "name": "stdout",
          "text": [
            "\n",
            "\n",
            "\u001b[1m> Entering new AgentExecutor chain...\u001b[0m\n",
            "\u001b[32;1m\u001b[1;3mI need to find the best engineering college in Singapore\n",
            "Action: Search\n",
            "Action Input: best engineering college in Singapore\u001b[0m\n",
            "Observation: \u001b[36;1m\u001b[1;3mA. National University of Singapore, Nanyang Technological University, and Singapore Management University are the top 3 universities in Singapore that offer Engineering courses.\u001b[0m\n",
            "Thought:\u001b[32;1m\u001b[1;3mI now know the final answer\n",
            "Final Answer: National University of Singapore\u001b[0m\n",
            "\n",
            "\u001b[1m> Finished chain.\u001b[0m\n"
          ]
        },
        {
          "output_type": "execute_result",
          "data": {
            "text/plain": [
              "'National University of Singapore'"
            ],
            "application/vnd.google.colaboratory.intrinsic+json": {
              "type": "string"
            }
          },
          "metadata": {},
          "execution_count": 31
        }
      ],
      "source": [
        "from langchain.llms import OpenAI\n",
        "from langchain.agents import load_tools\n",
        "from langchain.agents import initialize_agent\n",
        "\n",
        "llm = GooglePalm(temperature=0.0)\n",
        "llm\n",
        "tools = load_tools([\"serpapi\"], llm=llm)\n",
        "agent = initialize_agent(tools, llm, agent=\"zero-shot-react-description\", verbose=True)\n",
        "agent.run(\"Which is the best engineering college in Singapore?\")"
      ]
    },
    {
      "cell_type": "code",
      "source": [],
      "metadata": {
        "id": "le5EAgqeIo3o"
      },
      "execution_count": null,
      "outputs": []
    }
  ]
}